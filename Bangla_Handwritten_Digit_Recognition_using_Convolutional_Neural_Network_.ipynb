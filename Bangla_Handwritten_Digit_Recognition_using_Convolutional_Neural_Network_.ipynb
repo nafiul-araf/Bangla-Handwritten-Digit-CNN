{
  "nbformat": 4,
  "nbformat_minor": 0,
  "metadata": {
    "colab": {
      "name": "Bangla Handwritten Digit Recognition using Convolutional Neural Network .ipynb",
      "provenance": [],
      "collapsed_sections": [],
      "authorship_tag": "ABX9TyP+oh11X/2P4AF1MBBER08O",
      "include_colab_link": true
    },
    "kernelspec": {
      "name": "python3",
      "display_name": "Python 3"
    },
    "accelerator": "GPU"
  },
  "cells": [
    {
      "cell_type": "markdown",
      "metadata": {
        "id": "view-in-github",
        "colab_type": "text"
      },
      "source": [
        "<a href=\"https://colab.research.google.com/github/nafiul-araf/Bangla-Handwritten-Digit-CNN/blob/main/Bangla_Handwritten_Digit_Recognition_using_Convolutional_Neural_Network_.ipynb\" target=\"_parent\"><img src=\"https://colab.research.google.com/assets/colab-badge.svg\" alt=\"Open In Colab\"/></a>"
      ]
    },
    {
      "cell_type": "code",
      "metadata": {
        "id": "KC7yn52BpOQE",
        "colab": {
          "base_uri": "https://localhost:8080/"
        },
        "outputId": "2cc96bb7-7705-4105-afdb-c76711c97390"
      },
      "source": [
        "from google.colab import drive\n",
        "drive.mount('/content/gdrive')"
      ],
      "execution_count": null,
      "outputs": [
        {
          "output_type": "stream",
          "text": [
            "Drive already mounted at /content/gdrive; to attempt to forcibly remount, call drive.mount(\"/content/gdrive\", force_remount=True).\n"
          ],
          "name": "stdout"
        }
      ]
    },
    {
      "cell_type": "code",
      "metadata": {
        "id": "cWbbd2IAqT3B"
      },
      "source": [
        "import numpy as np\n",
        "import pandas as pd\n",
        "import matplotlib.pyplot as plt\n",
        "%matplotlib inline\n",
        "from sklearn.model_selection import train_test_split\n",
        "import tensorflow as tf\n",
        "from tensorflow import keras"
      ],
      "execution_count": null,
      "outputs": []
    },
    {
      "cell_type": "code",
      "metadata": {
        "id": "AIVMVQj4q70G"
      },
      "source": [
        "#Data Load\n",
        "df_male=pd.read_csv('/content/gdrive/MyDrive/maleDigits.csv')"
      ],
      "execution_count": null,
      "outputs": []
    },
    {
      "cell_type": "code",
      "metadata": {
        "id": "bP1eaTwFrE5P"
      },
      "source": [
        "df_female=pd.read_csv('/content/gdrive/MyDrive/maleDigits.csv')"
      ],
      "execution_count": null,
      "outputs": []
    },
    {
      "cell_type": "code",
      "metadata": {
        "colab": {
          "base_uri": "https://localhost:8080/"
        },
        "id": "eXC6Vks2rNtb",
        "outputId": "a5b1e1e2-faa1-4370-dd5a-350bfd3d45cb"
      },
      "source": [
        "df_male.shape"
      ],
      "execution_count": null,
      "outputs": [
        {
          "output_type": "execute_result",
          "data": {
            "text/plain": [
              "(15208, 785)"
            ]
          },
          "metadata": {
            "tags": []
          },
          "execution_count": 153
        }
      ]
    },
    {
      "cell_type": "code",
      "metadata": {
        "colab": {
          "base_uri": "https://localhost:8080/"
        },
        "id": "iup9P6NAsHWo",
        "outputId": "17c38940-81b7-4f83-b7a9-305278b6dd30"
      },
      "source": [
        "df_female.shape"
      ],
      "execution_count": null,
      "outputs": [
        {
          "output_type": "execute_result",
          "data": {
            "text/plain": [
              "(15622, 785)"
            ]
          },
          "metadata": {
            "tags": []
          },
          "execution_count": 154
        }
      ]
    },
    {
      "cell_type": "code",
      "metadata": {
        "colab": {
          "base_uri": "https://localhost:8080/",
          "height": 253
        },
        "id": "7EwpPzW0sJcK",
        "outputId": "8890df45-8890-4cdc-b7dd-2ded2566fad2"
      },
      "source": [
        "df_male.head()"
      ],
      "execution_count": null,
      "outputs": [
        {
          "output_type": "execute_result",
          "data": {
            "text/html": [
              "<div>\n",
              "<style scoped>\n",
              "    .dataframe tbody tr th:only-of-type {\n",
              "        vertical-align: middle;\n",
              "    }\n",
              "\n",
              "    .dataframe tbody tr th {\n",
              "        vertical-align: top;\n",
              "    }\n",
              "\n",
              "    .dataframe thead th {\n",
              "        text-align: right;\n",
              "    }\n",
              "</style>\n",
              "<table border=\"1\" class=\"dataframe\">\n",
              "  <thead>\n",
              "    <tr style=\"text-align: right;\">\n",
              "      <th></th>\n",
              "      <th>pixel0</th>\n",
              "      <th>pixel1</th>\n",
              "      <th>pixel2</th>\n",
              "      <th>pixel3</th>\n",
              "      <th>pixel4</th>\n",
              "      <th>pixel5</th>\n",
              "      <th>pixel6</th>\n",
              "      <th>pixel7</th>\n",
              "      <th>pixel8</th>\n",
              "      <th>pixel9</th>\n",
              "      <th>pixel10</th>\n",
              "      <th>pixel11</th>\n",
              "      <th>pixel12</th>\n",
              "      <th>pixel13</th>\n",
              "      <th>pixel14</th>\n",
              "      <th>pixel15</th>\n",
              "      <th>pixel16</th>\n",
              "      <th>pixel17</th>\n",
              "      <th>pixel18</th>\n",
              "      <th>pixel19</th>\n",
              "      <th>pixel20</th>\n",
              "      <th>pixel21</th>\n",
              "      <th>pixel22</th>\n",
              "      <th>pixel23</th>\n",
              "      <th>pixel24</th>\n",
              "      <th>pixel25</th>\n",
              "      <th>pixel26</th>\n",
              "      <th>pixel27</th>\n",
              "      <th>pixel28</th>\n",
              "      <th>pixel29</th>\n",
              "      <th>pixel30</th>\n",
              "      <th>pixel31</th>\n",
              "      <th>pixel32</th>\n",
              "      <th>pixel33</th>\n",
              "      <th>pixel34</th>\n",
              "      <th>pixel35</th>\n",
              "      <th>pixel36</th>\n",
              "      <th>pixel37</th>\n",
              "      <th>pixel38</th>\n",
              "      <th>pixel39</th>\n",
              "      <th>...</th>\n",
              "      <th>pixel745</th>\n",
              "      <th>pixel746</th>\n",
              "      <th>pixel747</th>\n",
              "      <th>pixel748</th>\n",
              "      <th>pixel749</th>\n",
              "      <th>pixel750</th>\n",
              "      <th>pixel751</th>\n",
              "      <th>pixel752</th>\n",
              "      <th>pixel753</th>\n",
              "      <th>pixel754</th>\n",
              "      <th>pixel755</th>\n",
              "      <th>pixel756</th>\n",
              "      <th>pixel757</th>\n",
              "      <th>pixel758</th>\n",
              "      <th>pixel759</th>\n",
              "      <th>pixel760</th>\n",
              "      <th>pixel761</th>\n",
              "      <th>pixel762</th>\n",
              "      <th>pixel763</th>\n",
              "      <th>pixel764</th>\n",
              "      <th>pixel765</th>\n",
              "      <th>pixel766</th>\n",
              "      <th>pixel767</th>\n",
              "      <th>pixel768</th>\n",
              "      <th>pixel769</th>\n",
              "      <th>pixel770</th>\n",
              "      <th>pixel771</th>\n",
              "      <th>pixel772</th>\n",
              "      <th>pixel773</th>\n",
              "      <th>pixel774</th>\n",
              "      <th>pixel775</th>\n",
              "      <th>pixel776</th>\n",
              "      <th>pixel777</th>\n",
              "      <th>pixel778</th>\n",
              "      <th>pixel779</th>\n",
              "      <th>pixel780</th>\n",
              "      <th>pixel781</th>\n",
              "      <th>pixel782</th>\n",
              "      <th>pixel783</th>\n",
              "      <th>label</th>\n",
              "    </tr>\n",
              "  </thead>\n",
              "  <tbody>\n",
              "    <tr>\n",
              "      <th>0</th>\n",
              "      <td>0</td>\n",
              "      <td>2</td>\n",
              "      <td>0</td>\n",
              "      <td>1</td>\n",
              "      <td>1</td>\n",
              "      <td>1</td>\n",
              "      <td>1</td>\n",
              "      <td>0</td>\n",
              "      <td>2</td>\n",
              "      <td>3</td>\n",
              "      <td>0</td>\n",
              "      <td>0</td>\n",
              "      <td>3</td>\n",
              "      <td>0</td>\n",
              "      <td>1</td>\n",
              "      <td>1</td>\n",
              "      <td>5</td>\n",
              "      <td>3</td>\n",
              "      <td>3</td>\n",
              "      <td>2</td>\n",
              "      <td>0</td>\n",
              "      <td>0</td>\n",
              "      <td>0</td>\n",
              "      <td>1</td>\n",
              "      <td>0</td>\n",
              "      <td>2</td>\n",
              "      <td>1</td>\n",
              "      <td>1</td>\n",
              "      <td>0</td>\n",
              "      <td>0</td>\n",
              "      <td>0</td>\n",
              "      <td>1</td>\n",
              "      <td>0</td>\n",
              "      <td>0</td>\n",
              "      <td>1</td>\n",
              "      <td>4</td>\n",
              "      <td>3</td>\n",
              "      <td>5</td>\n",
              "      <td>3</td>\n",
              "      <td>4</td>\n",
              "      <td>...</td>\n",
              "      <td>252</td>\n",
              "      <td>251</td>\n",
              "      <td>255</td>\n",
              "      <td>255</td>\n",
              "      <td>255</td>\n",
              "      <td>255</td>\n",
              "      <td>210</td>\n",
              "      <td>162</td>\n",
              "      <td>39</td>\n",
              "      <td>1</td>\n",
              "      <td>2</td>\n",
              "      <td>3</td>\n",
              "      <td>0</td>\n",
              "      <td>0</td>\n",
              "      <td>4</td>\n",
              "      <td>0</td>\n",
              "      <td>4</td>\n",
              "      <td>87</td>\n",
              "      <td>132</td>\n",
              "      <td>242</td>\n",
              "      <td>254</td>\n",
              "      <td>251</td>\n",
              "      <td>253</td>\n",
              "      <td>253</td>\n",
              "      <td>255</td>\n",
              "      <td>254</td>\n",
              "      <td>252</td>\n",
              "      <td>251</td>\n",
              "      <td>253</td>\n",
              "      <td>254</td>\n",
              "      <td>213</td>\n",
              "      <td>96</td>\n",
              "      <td>110</td>\n",
              "      <td>110</td>\n",
              "      <td>34</td>\n",
              "      <td>0</td>\n",
              "      <td>4</td>\n",
              "      <td>1</td>\n",
              "      <td>1</td>\n",
              "      <td>112</td>\n",
              "    </tr>\n",
              "    <tr>\n",
              "      <th>1</th>\n",
              "      <td>0</td>\n",
              "      <td>0</td>\n",
              "      <td>0</td>\n",
              "      <td>1</td>\n",
              "      <td>0</td>\n",
              "      <td>0</td>\n",
              "      <td>2</td>\n",
              "      <td>1</td>\n",
              "      <td>0</td>\n",
              "      <td>1</td>\n",
              "      <td>4</td>\n",
              "      <td>2</td>\n",
              "      <td>0</td>\n",
              "      <td>0</td>\n",
              "      <td>0</td>\n",
              "      <td>0</td>\n",
              "      <td>0</td>\n",
              "      <td>0</td>\n",
              "      <td>0</td>\n",
              "      <td>5</td>\n",
              "      <td>2</td>\n",
              "      <td>1</td>\n",
              "      <td>2</td>\n",
              "      <td>0</td>\n",
              "      <td>0</td>\n",
              "      <td>0</td>\n",
              "      <td>0</td>\n",
              "      <td>0</td>\n",
              "      <td>0</td>\n",
              "      <td>0</td>\n",
              "      <td>1</td>\n",
              "      <td>1</td>\n",
              "      <td>0</td>\n",
              "      <td>2</td>\n",
              "      <td>2</td>\n",
              "      <td>1</td>\n",
              "      <td>3</td>\n",
              "      <td>5</td>\n",
              "      <td>0</td>\n",
              "      <td>0</td>\n",
              "      <td>...</td>\n",
              "      <td>255</td>\n",
              "      <td>255</td>\n",
              "      <td>255</td>\n",
              "      <td>218</td>\n",
              "      <td>179</td>\n",
              "      <td>97</td>\n",
              "      <td>16</td>\n",
              "      <td>0</td>\n",
              "      <td>4</td>\n",
              "      <td>0</td>\n",
              "      <td>0</td>\n",
              "      <td>0</td>\n",
              "      <td>1</td>\n",
              "      <td>0</td>\n",
              "      <td>0</td>\n",
              "      <td>2</td>\n",
              "      <td>2</td>\n",
              "      <td>4</td>\n",
              "      <td>0</td>\n",
              "      <td>0</td>\n",
              "      <td>19</td>\n",
              "      <td>101</td>\n",
              "      <td>198</td>\n",
              "      <td>209</td>\n",
              "      <td>206</td>\n",
              "      <td>207</td>\n",
              "      <td>208</td>\n",
              "      <td>206</td>\n",
              "      <td>205</td>\n",
              "      <td>173</td>\n",
              "      <td>88</td>\n",
              "      <td>42</td>\n",
              "      <td>0</td>\n",
              "      <td>0</td>\n",
              "      <td>0</td>\n",
              "      <td>4</td>\n",
              "      <td>1</td>\n",
              "      <td>0</td>\n",
              "      <td>0</td>\n",
              "      <td>112</td>\n",
              "    </tr>\n",
              "    <tr>\n",
              "      <th>2</th>\n",
              "      <td>1</td>\n",
              "      <td>0</td>\n",
              "      <td>0</td>\n",
              "      <td>0</td>\n",
              "      <td>0</td>\n",
              "      <td>0</td>\n",
              "      <td>0</td>\n",
              "      <td>2</td>\n",
              "      <td>1</td>\n",
              "      <td>1</td>\n",
              "      <td>1</td>\n",
              "      <td>2</td>\n",
              "      <td>3</td>\n",
              "      <td>5</td>\n",
              "      <td>2</td>\n",
              "      <td>6</td>\n",
              "      <td>4</td>\n",
              "      <td>4</td>\n",
              "      <td>4</td>\n",
              "      <td>2</td>\n",
              "      <td>4</td>\n",
              "      <td>4</td>\n",
              "      <td>1</td>\n",
              "      <td>2</td>\n",
              "      <td>1</td>\n",
              "      <td>1</td>\n",
              "      <td>0</td>\n",
              "      <td>0</td>\n",
              "      <td>0</td>\n",
              "      <td>0</td>\n",
              "      <td>0</td>\n",
              "      <td>0</td>\n",
              "      <td>0</td>\n",
              "      <td>0</td>\n",
              "      <td>1</td>\n",
              "      <td>1</td>\n",
              "      <td>1</td>\n",
              "      <td>1</td>\n",
              "      <td>2</td>\n",
              "      <td>2</td>\n",
              "      <td>...</td>\n",
              "      <td>194</td>\n",
              "      <td>221</td>\n",
              "      <td>255</td>\n",
              "      <td>255</td>\n",
              "      <td>221</td>\n",
              "      <td>129</td>\n",
              "      <td>40</td>\n",
              "      <td>0</td>\n",
              "      <td>5</td>\n",
              "      <td>1</td>\n",
              "      <td>2</td>\n",
              "      <td>0</td>\n",
              "      <td>0</td>\n",
              "      <td>1</td>\n",
              "      <td>2</td>\n",
              "      <td>1</td>\n",
              "      <td>2</td>\n",
              "      <td>2</td>\n",
              "      <td>1</td>\n",
              "      <td>0</td>\n",
              "      <td>50</td>\n",
              "      <td>137</td>\n",
              "      <td>131</td>\n",
              "      <td>134</td>\n",
              "      <td>143</td>\n",
              "      <td>238</td>\n",
              "      <td>255</td>\n",
              "      <td>255</td>\n",
              "      <td>255</td>\n",
              "      <td>255</td>\n",
              "      <td>232</td>\n",
              "      <td>160</td>\n",
              "      <td>50</td>\n",
              "      <td>1</td>\n",
              "      <td>0</td>\n",
              "      <td>5</td>\n",
              "      <td>1</td>\n",
              "      <td>1</td>\n",
              "      <td>2</td>\n",
              "      <td>112</td>\n",
              "    </tr>\n",
              "    <tr>\n",
              "      <th>3</th>\n",
              "      <td>2</td>\n",
              "      <td>1</td>\n",
              "      <td>1</td>\n",
              "      <td>0</td>\n",
              "      <td>0</td>\n",
              "      <td>0</td>\n",
              "      <td>1</td>\n",
              "      <td>0</td>\n",
              "      <td>2</td>\n",
              "      <td>1</td>\n",
              "      <td>0</td>\n",
              "      <td>1</td>\n",
              "      <td>0</td>\n",
              "      <td>1</td>\n",
              "      <td>0</td>\n",
              "      <td>3</td>\n",
              "      <td>1</td>\n",
              "      <td>6</td>\n",
              "      <td>5</td>\n",
              "      <td>3</td>\n",
              "      <td>4</td>\n",
              "      <td>2</td>\n",
              "      <td>5</td>\n",
              "      <td>2</td>\n",
              "      <td>1</td>\n",
              "      <td>1</td>\n",
              "      <td>1</td>\n",
              "      <td>1</td>\n",
              "      <td>0</td>\n",
              "      <td>0</td>\n",
              "      <td>0</td>\n",
              "      <td>0</td>\n",
              "      <td>1</td>\n",
              "      <td>1</td>\n",
              "      <td>1</td>\n",
              "      <td>3</td>\n",
              "      <td>1</td>\n",
              "      <td>1</td>\n",
              "      <td>2</td>\n",
              "      <td>2</td>\n",
              "      <td>...</td>\n",
              "      <td>167</td>\n",
              "      <td>58</td>\n",
              "      <td>6</td>\n",
              "      <td>0</td>\n",
              "      <td>4</td>\n",
              "      <td>4</td>\n",
              "      <td>2</td>\n",
              "      <td>1</td>\n",
              "      <td>1</td>\n",
              "      <td>1</td>\n",
              "      <td>0</td>\n",
              "      <td>2</td>\n",
              "      <td>1</td>\n",
              "      <td>5</td>\n",
              "      <td>1</td>\n",
              "      <td>0</td>\n",
              "      <td>83</td>\n",
              "      <td>87</td>\n",
              "      <td>162</td>\n",
              "      <td>253</td>\n",
              "      <td>250</td>\n",
              "      <td>252</td>\n",
              "      <td>252</td>\n",
              "      <td>254</td>\n",
              "      <td>152</td>\n",
              "      <td>92</td>\n",
              "      <td>75</td>\n",
              "      <td>0</td>\n",
              "      <td>0</td>\n",
              "      <td>0</td>\n",
              "      <td>0</td>\n",
              "      <td>6</td>\n",
              "      <td>3</td>\n",
              "      <td>0</td>\n",
              "      <td>0</td>\n",
              "      <td>1</td>\n",
              "      <td>0</td>\n",
              "      <td>0</td>\n",
              "      <td>2</td>\n",
              "      <td>112</td>\n",
              "    </tr>\n",
              "    <tr>\n",
              "      <th>4</th>\n",
              "      <td>0</td>\n",
              "      <td>0</td>\n",
              "      <td>0</td>\n",
              "      <td>0</td>\n",
              "      <td>0</td>\n",
              "      <td>0</td>\n",
              "      <td>0</td>\n",
              "      <td>0</td>\n",
              "      <td>0</td>\n",
              "      <td>0</td>\n",
              "      <td>0</td>\n",
              "      <td>0</td>\n",
              "      <td>0</td>\n",
              "      <td>1</td>\n",
              "      <td>2</td>\n",
              "      <td>3</td>\n",
              "      <td>3</td>\n",
              "      <td>5</td>\n",
              "      <td>6</td>\n",
              "      <td>3</td>\n",
              "      <td>1</td>\n",
              "      <td>0</td>\n",
              "      <td>0</td>\n",
              "      <td>5</td>\n",
              "      <td>2</td>\n",
              "      <td>2</td>\n",
              "      <td>2</td>\n",
              "      <td>1</td>\n",
              "      <td>0</td>\n",
              "      <td>0</td>\n",
              "      <td>0</td>\n",
              "      <td>0</td>\n",
              "      <td>0</td>\n",
              "      <td>0</td>\n",
              "      <td>0</td>\n",
              "      <td>0</td>\n",
              "      <td>0</td>\n",
              "      <td>0</td>\n",
              "      <td>0</td>\n",
              "      <td>0</td>\n",
              "      <td>...</td>\n",
              "      <td>2</td>\n",
              "      <td>2</td>\n",
              "      <td>1</td>\n",
              "      <td>1</td>\n",
              "      <td>0</td>\n",
              "      <td>1</td>\n",
              "      <td>0</td>\n",
              "      <td>0</td>\n",
              "      <td>0</td>\n",
              "      <td>0</td>\n",
              "      <td>0</td>\n",
              "      <td>0</td>\n",
              "      <td>1</td>\n",
              "      <td>1</td>\n",
              "      <td>0</td>\n",
              "      <td>36</td>\n",
              "      <td>164</td>\n",
              "      <td>141</td>\n",
              "      <td>42</td>\n",
              "      <td>53</td>\n",
              "      <td>7</td>\n",
              "      <td>1</td>\n",
              "      <td>0</td>\n",
              "      <td>0</td>\n",
              "      <td>4</td>\n",
              "      <td>3</td>\n",
              "      <td>2</td>\n",
              "      <td>1</td>\n",
              "      <td>1</td>\n",
              "      <td>1</td>\n",
              "      <td>0</td>\n",
              "      <td>0</td>\n",
              "      <td>0</td>\n",
              "      <td>0</td>\n",
              "      <td>0</td>\n",
              "      <td>0</td>\n",
              "      <td>0</td>\n",
              "      <td>0</td>\n",
              "      <td>0</td>\n",
              "      <td>112</td>\n",
              "    </tr>\n",
              "  </tbody>\n",
              "</table>\n",
              "<p>5 rows × 785 columns</p>\n",
              "</div>"
            ],
            "text/plain": [
              "   pixel0  pixel1  pixel2  pixel3  ...  pixel781  pixel782  pixel783  label\n",
              "0       0       2       0       1  ...         4         1         1    112\n",
              "1       0       0       0       1  ...         1         0         0    112\n",
              "2       1       0       0       0  ...         1         1         2    112\n",
              "3       2       1       1       0  ...         0         0         2    112\n",
              "4       0       0       0       0  ...         0         0         0    112\n",
              "\n",
              "[5 rows x 785 columns]"
            ]
          },
          "metadata": {
            "tags": []
          },
          "execution_count": 155
        }
      ]
    },
    {
      "cell_type": "code",
      "metadata": {
        "colab": {
          "base_uri": "https://localhost:8080/",
          "height": 253
        },
        "id": "E9RBomWHsS2U",
        "outputId": "72f39ba9-31a9-43a0-fbf3-c343757a0c0e"
      },
      "source": [
        "df_female.head()"
      ],
      "execution_count": null,
      "outputs": [
        {
          "output_type": "execute_result",
          "data": {
            "text/html": [
              "<div>\n",
              "<style scoped>\n",
              "    .dataframe tbody tr th:only-of-type {\n",
              "        vertical-align: middle;\n",
              "    }\n",
              "\n",
              "    .dataframe tbody tr th {\n",
              "        vertical-align: top;\n",
              "    }\n",
              "\n",
              "    .dataframe thead th {\n",
              "        text-align: right;\n",
              "    }\n",
              "</style>\n",
              "<table border=\"1\" class=\"dataframe\">\n",
              "  <thead>\n",
              "    <tr style=\"text-align: right;\">\n",
              "      <th></th>\n",
              "      <th>pixel0</th>\n",
              "      <th>pixel1</th>\n",
              "      <th>pixel2</th>\n",
              "      <th>pixel3</th>\n",
              "      <th>pixel4</th>\n",
              "      <th>pixel5</th>\n",
              "      <th>pixel6</th>\n",
              "      <th>pixel7</th>\n",
              "      <th>pixel8</th>\n",
              "      <th>pixel9</th>\n",
              "      <th>pixel10</th>\n",
              "      <th>pixel11</th>\n",
              "      <th>pixel12</th>\n",
              "      <th>pixel13</th>\n",
              "      <th>pixel14</th>\n",
              "      <th>pixel15</th>\n",
              "      <th>pixel16</th>\n",
              "      <th>pixel17</th>\n",
              "      <th>pixel18</th>\n",
              "      <th>pixel19</th>\n",
              "      <th>pixel20</th>\n",
              "      <th>pixel21</th>\n",
              "      <th>pixel22</th>\n",
              "      <th>pixel23</th>\n",
              "      <th>pixel24</th>\n",
              "      <th>pixel25</th>\n",
              "      <th>pixel26</th>\n",
              "      <th>pixel27</th>\n",
              "      <th>pixel28</th>\n",
              "      <th>pixel29</th>\n",
              "      <th>pixel30</th>\n",
              "      <th>pixel31</th>\n",
              "      <th>pixel32</th>\n",
              "      <th>pixel33</th>\n",
              "      <th>pixel34</th>\n",
              "      <th>pixel35</th>\n",
              "      <th>pixel36</th>\n",
              "      <th>pixel37</th>\n",
              "      <th>pixel38</th>\n",
              "      <th>pixel39</th>\n",
              "      <th>...</th>\n",
              "      <th>pixel745</th>\n",
              "      <th>pixel746</th>\n",
              "      <th>pixel747</th>\n",
              "      <th>pixel748</th>\n",
              "      <th>pixel749</th>\n",
              "      <th>pixel750</th>\n",
              "      <th>pixel751</th>\n",
              "      <th>pixel752</th>\n",
              "      <th>pixel753</th>\n",
              "      <th>pixel754</th>\n",
              "      <th>pixel755</th>\n",
              "      <th>pixel756</th>\n",
              "      <th>pixel757</th>\n",
              "      <th>pixel758</th>\n",
              "      <th>pixel759</th>\n",
              "      <th>pixel760</th>\n",
              "      <th>pixel761</th>\n",
              "      <th>pixel762</th>\n",
              "      <th>pixel763</th>\n",
              "      <th>pixel764</th>\n",
              "      <th>pixel765</th>\n",
              "      <th>pixel766</th>\n",
              "      <th>pixel767</th>\n",
              "      <th>pixel768</th>\n",
              "      <th>pixel769</th>\n",
              "      <th>pixel770</th>\n",
              "      <th>pixel771</th>\n",
              "      <th>pixel772</th>\n",
              "      <th>pixel773</th>\n",
              "      <th>pixel774</th>\n",
              "      <th>pixel775</th>\n",
              "      <th>pixel776</th>\n",
              "      <th>pixel777</th>\n",
              "      <th>pixel778</th>\n",
              "      <th>pixel779</th>\n",
              "      <th>pixel780</th>\n",
              "      <th>pixel781</th>\n",
              "      <th>pixel782</th>\n",
              "      <th>pixel783</th>\n",
              "      <th>label</th>\n",
              "    </tr>\n",
              "  </thead>\n",
              "  <tbody>\n",
              "    <tr>\n",
              "      <th>0</th>\n",
              "      <td>0</td>\n",
              "      <td>0</td>\n",
              "      <td>0</td>\n",
              "      <td>0</td>\n",
              "      <td>1</td>\n",
              "      <td>0</td>\n",
              "      <td>1</td>\n",
              "      <td>0</td>\n",
              "      <td>2</td>\n",
              "      <td>4</td>\n",
              "      <td>5</td>\n",
              "      <td>0</td>\n",
              "      <td>0</td>\n",
              "      <td>0</td>\n",
              "      <td>0</td>\n",
              "      <td>0</td>\n",
              "      <td>0</td>\n",
              "      <td>0</td>\n",
              "      <td>0</td>\n",
              "      <td>0</td>\n",
              "      <td>1</td>\n",
              "      <td>1</td>\n",
              "      <td>3</td>\n",
              "      <td>1</td>\n",
              "      <td>0</td>\n",
              "      <td>1</td>\n",
              "      <td>0</td>\n",
              "      <td>0</td>\n",
              "      <td>0</td>\n",
              "      <td>0</td>\n",
              "      <td>0</td>\n",
              "      <td>1</td>\n",
              "      <td>2</td>\n",
              "      <td>2</td>\n",
              "      <td>2</td>\n",
              "      <td>5</td>\n",
              "      <td>1</td>\n",
              "      <td>0</td>\n",
              "      <td>0</td>\n",
              "      <td>33</td>\n",
              "      <td>...</td>\n",
              "      <td>255</td>\n",
              "      <td>255</td>\n",
              "      <td>255</td>\n",
              "      <td>253</td>\n",
              "      <td>253</td>\n",
              "      <td>255</td>\n",
              "      <td>255</td>\n",
              "      <td>236</td>\n",
              "      <td>96</td>\n",
              "      <td>5</td>\n",
              "      <td>1</td>\n",
              "      <td>0</td>\n",
              "      <td>0</td>\n",
              "      <td>0</td>\n",
              "      <td>0</td>\n",
              "      <td>0</td>\n",
              "      <td>1</td>\n",
              "      <td>1</td>\n",
              "      <td>0</td>\n",
              "      <td>0</td>\n",
              "      <td>0</td>\n",
              "      <td>0</td>\n",
              "      <td>1</td>\n",
              "      <td>2</td>\n",
              "      <td>4</td>\n",
              "      <td>0</td>\n",
              "      <td>0</td>\n",
              "      <td>1</td>\n",
              "      <td>77</td>\n",
              "      <td>158</td>\n",
              "      <td>184</td>\n",
              "      <td>252</td>\n",
              "      <td>254</td>\n",
              "      <td>186</td>\n",
              "      <td>155</td>\n",
              "      <td>60</td>\n",
              "      <td>0</td>\n",
              "      <td>3</td>\n",
              "      <td>1</td>\n",
              "      <td>112</td>\n",
              "    </tr>\n",
              "    <tr>\n",
              "      <th>1</th>\n",
              "      <td>0</td>\n",
              "      <td>0</td>\n",
              "      <td>0</td>\n",
              "      <td>0</td>\n",
              "      <td>0</td>\n",
              "      <td>1</td>\n",
              "      <td>1</td>\n",
              "      <td>4</td>\n",
              "      <td>5</td>\n",
              "      <td>0</td>\n",
              "      <td>0</td>\n",
              "      <td>0</td>\n",
              "      <td>7</td>\n",
              "      <td>4</td>\n",
              "      <td>5</td>\n",
              "      <td>4</td>\n",
              "      <td>6</td>\n",
              "      <td>7</td>\n",
              "      <td>5</td>\n",
              "      <td>5</td>\n",
              "      <td>6</td>\n",
              "      <td>3</td>\n",
              "      <td>3</td>\n",
              "      <td>1</td>\n",
              "      <td>1</td>\n",
              "      <td>0</td>\n",
              "      <td>0</td>\n",
              "      <td>0</td>\n",
              "      <td>0</td>\n",
              "      <td>1</td>\n",
              "      <td>0</td>\n",
              "      <td>0</td>\n",
              "      <td>0</td>\n",
              "      <td>0</td>\n",
              "      <td>3</td>\n",
              "      <td>0</td>\n",
              "      <td>0</td>\n",
              "      <td>59</td>\n",
              "      <td>70</td>\n",
              "      <td>33</td>\n",
              "      <td>...</td>\n",
              "      <td>255</td>\n",
              "      <td>240</td>\n",
              "      <td>221</td>\n",
              "      <td>152</td>\n",
              "      <td>66</td>\n",
              "      <td>0</td>\n",
              "      <td>3</td>\n",
              "      <td>3</td>\n",
              "      <td>1</td>\n",
              "      <td>0</td>\n",
              "      <td>1</td>\n",
              "      <td>0</td>\n",
              "      <td>0</td>\n",
              "      <td>0</td>\n",
              "      <td>0</td>\n",
              "      <td>0</td>\n",
              "      <td>3</td>\n",
              "      <td>2</td>\n",
              "      <td>2</td>\n",
              "      <td>5</td>\n",
              "      <td>0</td>\n",
              "      <td>0</td>\n",
              "      <td>23</td>\n",
              "      <td>113</td>\n",
              "      <td>149</td>\n",
              "      <td>243</td>\n",
              "      <td>250</td>\n",
              "      <td>189</td>\n",
              "      <td>129</td>\n",
              "      <td>71</td>\n",
              "      <td>15</td>\n",
              "      <td>0</td>\n",
              "      <td>0</td>\n",
              "      <td>4</td>\n",
              "      <td>4</td>\n",
              "      <td>2</td>\n",
              "      <td>1</td>\n",
              "      <td>1</td>\n",
              "      <td>1</td>\n",
              "      <td>112</td>\n",
              "    </tr>\n",
              "    <tr>\n",
              "      <th>2</th>\n",
              "      <td>0</td>\n",
              "      <td>0</td>\n",
              "      <td>1</td>\n",
              "      <td>0</td>\n",
              "      <td>1</td>\n",
              "      <td>0</td>\n",
              "      <td>1</td>\n",
              "      <td>0</td>\n",
              "      <td>1</td>\n",
              "      <td>1</td>\n",
              "      <td>3</td>\n",
              "      <td>3</td>\n",
              "      <td>0</td>\n",
              "      <td>0</td>\n",
              "      <td>5</td>\n",
              "      <td>4</td>\n",
              "      <td>4</td>\n",
              "      <td>6</td>\n",
              "      <td>0</td>\n",
              "      <td>0</td>\n",
              "      <td>6</td>\n",
              "      <td>1</td>\n",
              "      <td>1</td>\n",
              "      <td>1</td>\n",
              "      <td>0</td>\n",
              "      <td>1</td>\n",
              "      <td>0</td>\n",
              "      <td>0</td>\n",
              "      <td>0</td>\n",
              "      <td>0</td>\n",
              "      <td>0</td>\n",
              "      <td>0</td>\n",
              "      <td>1</td>\n",
              "      <td>1</td>\n",
              "      <td>1</td>\n",
              "      <td>2</td>\n",
              "      <td>6</td>\n",
              "      <td>2</td>\n",
              "      <td>0</td>\n",
              "      <td>0</td>\n",
              "      <td>...</td>\n",
              "      <td>255</td>\n",
              "      <td>255</td>\n",
              "      <td>217</td>\n",
              "      <td>161</td>\n",
              "      <td>91</td>\n",
              "      <td>27</td>\n",
              "      <td>0</td>\n",
              "      <td>5</td>\n",
              "      <td>1</td>\n",
              "      <td>1</td>\n",
              "      <td>0</td>\n",
              "      <td>0</td>\n",
              "      <td>0</td>\n",
              "      <td>0</td>\n",
              "      <td>1</td>\n",
              "      <td>1</td>\n",
              "      <td>3</td>\n",
              "      <td>4</td>\n",
              "      <td>0</td>\n",
              "      <td>11</td>\n",
              "      <td>81</td>\n",
              "      <td>190</td>\n",
              "      <td>223</td>\n",
              "      <td>249</td>\n",
              "      <td>250</td>\n",
              "      <td>247</td>\n",
              "      <td>205</td>\n",
              "      <td>200</td>\n",
              "      <td>179</td>\n",
              "      <td>88</td>\n",
              "      <td>30</td>\n",
              "      <td>0</td>\n",
              "      <td>0</td>\n",
              "      <td>0</td>\n",
              "      <td>5</td>\n",
              "      <td>1</td>\n",
              "      <td>0</td>\n",
              "      <td>0</td>\n",
              "      <td>0</td>\n",
              "      <td>112</td>\n",
              "    </tr>\n",
              "    <tr>\n",
              "      <th>3</th>\n",
              "      <td>0</td>\n",
              "      <td>0</td>\n",
              "      <td>0</td>\n",
              "      <td>0</td>\n",
              "      <td>1</td>\n",
              "      <td>0</td>\n",
              "      <td>0</td>\n",
              "      <td>0</td>\n",
              "      <td>1</td>\n",
              "      <td>2</td>\n",
              "      <td>2</td>\n",
              "      <td>4</td>\n",
              "      <td>6</td>\n",
              "      <td>0</td>\n",
              "      <td>0</td>\n",
              "      <td>13</td>\n",
              "      <td>15</td>\n",
              "      <td>18</td>\n",
              "      <td>7</td>\n",
              "      <td>0</td>\n",
              "      <td>5</td>\n",
              "      <td>2</td>\n",
              "      <td>1</td>\n",
              "      <td>1</td>\n",
              "      <td>0</td>\n",
              "      <td>0</td>\n",
              "      <td>0</td>\n",
              "      <td>0</td>\n",
              "      <td>0</td>\n",
              "      <td>0</td>\n",
              "      <td>0</td>\n",
              "      <td>0</td>\n",
              "      <td>0</td>\n",
              "      <td>0</td>\n",
              "      <td>0</td>\n",
              "      <td>0</td>\n",
              "      <td>0</td>\n",
              "      <td>2</td>\n",
              "      <td>6</td>\n",
              "      <td>3</td>\n",
              "      <td>...</td>\n",
              "      <td>36</td>\n",
              "      <td>14</td>\n",
              "      <td>0</td>\n",
              "      <td>0</td>\n",
              "      <td>3</td>\n",
              "      <td>2</td>\n",
              "      <td>1</td>\n",
              "      <td>0</td>\n",
              "      <td>1</td>\n",
              "      <td>0</td>\n",
              "      <td>0</td>\n",
              "      <td>0</td>\n",
              "      <td>0</td>\n",
              "      <td>1</td>\n",
              "      <td>5</td>\n",
              "      <td>0</td>\n",
              "      <td>19</td>\n",
              "      <td>102</td>\n",
              "      <td>186</td>\n",
              "      <td>241</td>\n",
              "      <td>239</td>\n",
              "      <td>199</td>\n",
              "      <td>196</td>\n",
              "      <td>117</td>\n",
              "      <td>60</td>\n",
              "      <td>17</td>\n",
              "      <td>0</td>\n",
              "      <td>0</td>\n",
              "      <td>0</td>\n",
              "      <td>0</td>\n",
              "      <td>4</td>\n",
              "      <td>2</td>\n",
              "      <td>0</td>\n",
              "      <td>0</td>\n",
              "      <td>1</td>\n",
              "      <td>0</td>\n",
              "      <td>0</td>\n",
              "      <td>0</td>\n",
              "      <td>0</td>\n",
              "      <td>112</td>\n",
              "    </tr>\n",
              "    <tr>\n",
              "      <th>4</th>\n",
              "      <td>2</td>\n",
              "      <td>3</td>\n",
              "      <td>12</td>\n",
              "      <td>5</td>\n",
              "      <td>14</td>\n",
              "      <td>16</td>\n",
              "      <td>15</td>\n",
              "      <td>16</td>\n",
              "      <td>5</td>\n",
              "      <td>12</td>\n",
              "      <td>3</td>\n",
              "      <td>3</td>\n",
              "      <td>24</td>\n",
              "      <td>12</td>\n",
              "      <td>10</td>\n",
              "      <td>8</td>\n",
              "      <td>11</td>\n",
              "      <td>8</td>\n",
              "      <td>12</td>\n",
              "      <td>5</td>\n",
              "      <td>19</td>\n",
              "      <td>20</td>\n",
              "      <td>1</td>\n",
              "      <td>3</td>\n",
              "      <td>17</td>\n",
              "      <td>2</td>\n",
              "      <td>11</td>\n",
              "      <td>13</td>\n",
              "      <td>2</td>\n",
              "      <td>2</td>\n",
              "      <td>0</td>\n",
              "      <td>2</td>\n",
              "      <td>0</td>\n",
              "      <td>0</td>\n",
              "      <td>0</td>\n",
              "      <td>0</td>\n",
              "      <td>1</td>\n",
              "      <td>0</td>\n",
              "      <td>1</td>\n",
              "      <td>2</td>\n",
              "      <td>...</td>\n",
              "      <td>235</td>\n",
              "      <td>157</td>\n",
              "      <td>91</td>\n",
              "      <td>26</td>\n",
              "      <td>0</td>\n",
              "      <td>0</td>\n",
              "      <td>5</td>\n",
              "      <td>2</td>\n",
              "      <td>1</td>\n",
              "      <td>0</td>\n",
              "      <td>0</td>\n",
              "      <td>0</td>\n",
              "      <td>1</td>\n",
              "      <td>0</td>\n",
              "      <td>1</td>\n",
              "      <td>4</td>\n",
              "      <td>3</td>\n",
              "      <td>0</td>\n",
              "      <td>1</td>\n",
              "      <td>37</td>\n",
              "      <td>96</td>\n",
              "      <td>135</td>\n",
              "      <td>178</td>\n",
              "      <td>214</td>\n",
              "      <td>196</td>\n",
              "      <td>145</td>\n",
              "      <td>98</td>\n",
              "      <td>35</td>\n",
              "      <td>11</td>\n",
              "      <td>0</td>\n",
              "      <td>0</td>\n",
              "      <td>0</td>\n",
              "      <td>2</td>\n",
              "      <td>3</td>\n",
              "      <td>0</td>\n",
              "      <td>0</td>\n",
              "      <td>0</td>\n",
              "      <td>0</td>\n",
              "      <td>0</td>\n",
              "      <td>112</td>\n",
              "    </tr>\n",
              "  </tbody>\n",
              "</table>\n",
              "<p>5 rows × 785 columns</p>\n",
              "</div>"
            ],
            "text/plain": [
              "   pixel0  pixel1  pixel2  pixel3  ...  pixel781  pixel782  pixel783  label\n",
              "0       0       0       0       0  ...         0         3         1    112\n",
              "1       0       0       0       0  ...         1         1         1    112\n",
              "2       0       0       1       0  ...         0         0         0    112\n",
              "3       0       0       0       0  ...         0         0         0    112\n",
              "4       2       3      12       5  ...         0         0         0    112\n",
              "\n",
              "[5 rows x 785 columns]"
            ]
          },
          "metadata": {
            "tags": []
          },
          "execution_count": 156
        }
      ]
    },
    {
      "cell_type": "code",
      "metadata": {
        "id": "NCtO9KxTsVSn"
      },
      "source": [
        "#Concatenate\n",
        "df=pd.concat([df_male,df_female],axis=0)"
      ],
      "execution_count": null,
      "outputs": []
    },
    {
      "cell_type": "code",
      "metadata": {
        "colab": {
          "base_uri": "https://localhost:8080/",
          "height": 253
        },
        "id": "NAmf_5t4srgn",
        "outputId": "7e16e52e-bc6e-49a3-e8b2-a999d9f816e5"
      },
      "source": [
        "df.head()"
      ],
      "execution_count": null,
      "outputs": [
        {
          "output_type": "execute_result",
          "data": {
            "text/html": [
              "<div>\n",
              "<style scoped>\n",
              "    .dataframe tbody tr th:only-of-type {\n",
              "        vertical-align: middle;\n",
              "    }\n",
              "\n",
              "    .dataframe tbody tr th {\n",
              "        vertical-align: top;\n",
              "    }\n",
              "\n",
              "    .dataframe thead th {\n",
              "        text-align: right;\n",
              "    }\n",
              "</style>\n",
              "<table border=\"1\" class=\"dataframe\">\n",
              "  <thead>\n",
              "    <tr style=\"text-align: right;\">\n",
              "      <th></th>\n",
              "      <th>pixel0</th>\n",
              "      <th>pixel1</th>\n",
              "      <th>pixel2</th>\n",
              "      <th>pixel3</th>\n",
              "      <th>pixel4</th>\n",
              "      <th>pixel5</th>\n",
              "      <th>pixel6</th>\n",
              "      <th>pixel7</th>\n",
              "      <th>pixel8</th>\n",
              "      <th>pixel9</th>\n",
              "      <th>pixel10</th>\n",
              "      <th>pixel11</th>\n",
              "      <th>pixel12</th>\n",
              "      <th>pixel13</th>\n",
              "      <th>pixel14</th>\n",
              "      <th>pixel15</th>\n",
              "      <th>pixel16</th>\n",
              "      <th>pixel17</th>\n",
              "      <th>pixel18</th>\n",
              "      <th>pixel19</th>\n",
              "      <th>pixel20</th>\n",
              "      <th>pixel21</th>\n",
              "      <th>pixel22</th>\n",
              "      <th>pixel23</th>\n",
              "      <th>pixel24</th>\n",
              "      <th>pixel25</th>\n",
              "      <th>pixel26</th>\n",
              "      <th>pixel27</th>\n",
              "      <th>pixel28</th>\n",
              "      <th>pixel29</th>\n",
              "      <th>pixel30</th>\n",
              "      <th>pixel31</th>\n",
              "      <th>pixel32</th>\n",
              "      <th>pixel33</th>\n",
              "      <th>pixel34</th>\n",
              "      <th>pixel35</th>\n",
              "      <th>pixel36</th>\n",
              "      <th>pixel37</th>\n",
              "      <th>pixel38</th>\n",
              "      <th>pixel39</th>\n",
              "      <th>...</th>\n",
              "      <th>pixel745</th>\n",
              "      <th>pixel746</th>\n",
              "      <th>pixel747</th>\n",
              "      <th>pixel748</th>\n",
              "      <th>pixel749</th>\n",
              "      <th>pixel750</th>\n",
              "      <th>pixel751</th>\n",
              "      <th>pixel752</th>\n",
              "      <th>pixel753</th>\n",
              "      <th>pixel754</th>\n",
              "      <th>pixel755</th>\n",
              "      <th>pixel756</th>\n",
              "      <th>pixel757</th>\n",
              "      <th>pixel758</th>\n",
              "      <th>pixel759</th>\n",
              "      <th>pixel760</th>\n",
              "      <th>pixel761</th>\n",
              "      <th>pixel762</th>\n",
              "      <th>pixel763</th>\n",
              "      <th>pixel764</th>\n",
              "      <th>pixel765</th>\n",
              "      <th>pixel766</th>\n",
              "      <th>pixel767</th>\n",
              "      <th>pixel768</th>\n",
              "      <th>pixel769</th>\n",
              "      <th>pixel770</th>\n",
              "      <th>pixel771</th>\n",
              "      <th>pixel772</th>\n",
              "      <th>pixel773</th>\n",
              "      <th>pixel774</th>\n",
              "      <th>pixel775</th>\n",
              "      <th>pixel776</th>\n",
              "      <th>pixel777</th>\n",
              "      <th>pixel778</th>\n",
              "      <th>pixel779</th>\n",
              "      <th>pixel780</th>\n",
              "      <th>pixel781</th>\n",
              "      <th>pixel782</th>\n",
              "      <th>pixel783</th>\n",
              "      <th>label</th>\n",
              "    </tr>\n",
              "  </thead>\n",
              "  <tbody>\n",
              "    <tr>\n",
              "      <th>0</th>\n",
              "      <td>0</td>\n",
              "      <td>2</td>\n",
              "      <td>0</td>\n",
              "      <td>1</td>\n",
              "      <td>1</td>\n",
              "      <td>1</td>\n",
              "      <td>1</td>\n",
              "      <td>0</td>\n",
              "      <td>2</td>\n",
              "      <td>3</td>\n",
              "      <td>0</td>\n",
              "      <td>0</td>\n",
              "      <td>3</td>\n",
              "      <td>0</td>\n",
              "      <td>1</td>\n",
              "      <td>1</td>\n",
              "      <td>5</td>\n",
              "      <td>3</td>\n",
              "      <td>3</td>\n",
              "      <td>2</td>\n",
              "      <td>0</td>\n",
              "      <td>0</td>\n",
              "      <td>0</td>\n",
              "      <td>1</td>\n",
              "      <td>0</td>\n",
              "      <td>2</td>\n",
              "      <td>1</td>\n",
              "      <td>1</td>\n",
              "      <td>0</td>\n",
              "      <td>0</td>\n",
              "      <td>0</td>\n",
              "      <td>1</td>\n",
              "      <td>0</td>\n",
              "      <td>0</td>\n",
              "      <td>1</td>\n",
              "      <td>4</td>\n",
              "      <td>3</td>\n",
              "      <td>5</td>\n",
              "      <td>3</td>\n",
              "      <td>4</td>\n",
              "      <td>...</td>\n",
              "      <td>252</td>\n",
              "      <td>251</td>\n",
              "      <td>255</td>\n",
              "      <td>255</td>\n",
              "      <td>255</td>\n",
              "      <td>255</td>\n",
              "      <td>210</td>\n",
              "      <td>162</td>\n",
              "      <td>39</td>\n",
              "      <td>1</td>\n",
              "      <td>2</td>\n",
              "      <td>3</td>\n",
              "      <td>0</td>\n",
              "      <td>0</td>\n",
              "      <td>4</td>\n",
              "      <td>0</td>\n",
              "      <td>4</td>\n",
              "      <td>87</td>\n",
              "      <td>132</td>\n",
              "      <td>242</td>\n",
              "      <td>254</td>\n",
              "      <td>251</td>\n",
              "      <td>253</td>\n",
              "      <td>253</td>\n",
              "      <td>255</td>\n",
              "      <td>254</td>\n",
              "      <td>252</td>\n",
              "      <td>251</td>\n",
              "      <td>253</td>\n",
              "      <td>254</td>\n",
              "      <td>213</td>\n",
              "      <td>96</td>\n",
              "      <td>110</td>\n",
              "      <td>110</td>\n",
              "      <td>34</td>\n",
              "      <td>0</td>\n",
              "      <td>4</td>\n",
              "      <td>1</td>\n",
              "      <td>1</td>\n",
              "      <td>112</td>\n",
              "    </tr>\n",
              "    <tr>\n",
              "      <th>1</th>\n",
              "      <td>0</td>\n",
              "      <td>0</td>\n",
              "      <td>0</td>\n",
              "      <td>1</td>\n",
              "      <td>0</td>\n",
              "      <td>0</td>\n",
              "      <td>2</td>\n",
              "      <td>1</td>\n",
              "      <td>0</td>\n",
              "      <td>1</td>\n",
              "      <td>4</td>\n",
              "      <td>2</td>\n",
              "      <td>0</td>\n",
              "      <td>0</td>\n",
              "      <td>0</td>\n",
              "      <td>0</td>\n",
              "      <td>0</td>\n",
              "      <td>0</td>\n",
              "      <td>0</td>\n",
              "      <td>5</td>\n",
              "      <td>2</td>\n",
              "      <td>1</td>\n",
              "      <td>2</td>\n",
              "      <td>0</td>\n",
              "      <td>0</td>\n",
              "      <td>0</td>\n",
              "      <td>0</td>\n",
              "      <td>0</td>\n",
              "      <td>0</td>\n",
              "      <td>0</td>\n",
              "      <td>1</td>\n",
              "      <td>1</td>\n",
              "      <td>0</td>\n",
              "      <td>2</td>\n",
              "      <td>2</td>\n",
              "      <td>1</td>\n",
              "      <td>3</td>\n",
              "      <td>5</td>\n",
              "      <td>0</td>\n",
              "      <td>0</td>\n",
              "      <td>...</td>\n",
              "      <td>255</td>\n",
              "      <td>255</td>\n",
              "      <td>255</td>\n",
              "      <td>218</td>\n",
              "      <td>179</td>\n",
              "      <td>97</td>\n",
              "      <td>16</td>\n",
              "      <td>0</td>\n",
              "      <td>4</td>\n",
              "      <td>0</td>\n",
              "      <td>0</td>\n",
              "      <td>0</td>\n",
              "      <td>1</td>\n",
              "      <td>0</td>\n",
              "      <td>0</td>\n",
              "      <td>2</td>\n",
              "      <td>2</td>\n",
              "      <td>4</td>\n",
              "      <td>0</td>\n",
              "      <td>0</td>\n",
              "      <td>19</td>\n",
              "      <td>101</td>\n",
              "      <td>198</td>\n",
              "      <td>209</td>\n",
              "      <td>206</td>\n",
              "      <td>207</td>\n",
              "      <td>208</td>\n",
              "      <td>206</td>\n",
              "      <td>205</td>\n",
              "      <td>173</td>\n",
              "      <td>88</td>\n",
              "      <td>42</td>\n",
              "      <td>0</td>\n",
              "      <td>0</td>\n",
              "      <td>0</td>\n",
              "      <td>4</td>\n",
              "      <td>1</td>\n",
              "      <td>0</td>\n",
              "      <td>0</td>\n",
              "      <td>112</td>\n",
              "    </tr>\n",
              "    <tr>\n",
              "      <th>2</th>\n",
              "      <td>1</td>\n",
              "      <td>0</td>\n",
              "      <td>0</td>\n",
              "      <td>0</td>\n",
              "      <td>0</td>\n",
              "      <td>0</td>\n",
              "      <td>0</td>\n",
              "      <td>2</td>\n",
              "      <td>1</td>\n",
              "      <td>1</td>\n",
              "      <td>1</td>\n",
              "      <td>2</td>\n",
              "      <td>3</td>\n",
              "      <td>5</td>\n",
              "      <td>2</td>\n",
              "      <td>6</td>\n",
              "      <td>4</td>\n",
              "      <td>4</td>\n",
              "      <td>4</td>\n",
              "      <td>2</td>\n",
              "      <td>4</td>\n",
              "      <td>4</td>\n",
              "      <td>1</td>\n",
              "      <td>2</td>\n",
              "      <td>1</td>\n",
              "      <td>1</td>\n",
              "      <td>0</td>\n",
              "      <td>0</td>\n",
              "      <td>0</td>\n",
              "      <td>0</td>\n",
              "      <td>0</td>\n",
              "      <td>0</td>\n",
              "      <td>0</td>\n",
              "      <td>0</td>\n",
              "      <td>1</td>\n",
              "      <td>1</td>\n",
              "      <td>1</td>\n",
              "      <td>1</td>\n",
              "      <td>2</td>\n",
              "      <td>2</td>\n",
              "      <td>...</td>\n",
              "      <td>194</td>\n",
              "      <td>221</td>\n",
              "      <td>255</td>\n",
              "      <td>255</td>\n",
              "      <td>221</td>\n",
              "      <td>129</td>\n",
              "      <td>40</td>\n",
              "      <td>0</td>\n",
              "      <td>5</td>\n",
              "      <td>1</td>\n",
              "      <td>2</td>\n",
              "      <td>0</td>\n",
              "      <td>0</td>\n",
              "      <td>1</td>\n",
              "      <td>2</td>\n",
              "      <td>1</td>\n",
              "      <td>2</td>\n",
              "      <td>2</td>\n",
              "      <td>1</td>\n",
              "      <td>0</td>\n",
              "      <td>50</td>\n",
              "      <td>137</td>\n",
              "      <td>131</td>\n",
              "      <td>134</td>\n",
              "      <td>143</td>\n",
              "      <td>238</td>\n",
              "      <td>255</td>\n",
              "      <td>255</td>\n",
              "      <td>255</td>\n",
              "      <td>255</td>\n",
              "      <td>232</td>\n",
              "      <td>160</td>\n",
              "      <td>50</td>\n",
              "      <td>1</td>\n",
              "      <td>0</td>\n",
              "      <td>5</td>\n",
              "      <td>1</td>\n",
              "      <td>1</td>\n",
              "      <td>2</td>\n",
              "      <td>112</td>\n",
              "    </tr>\n",
              "    <tr>\n",
              "      <th>3</th>\n",
              "      <td>2</td>\n",
              "      <td>1</td>\n",
              "      <td>1</td>\n",
              "      <td>0</td>\n",
              "      <td>0</td>\n",
              "      <td>0</td>\n",
              "      <td>1</td>\n",
              "      <td>0</td>\n",
              "      <td>2</td>\n",
              "      <td>1</td>\n",
              "      <td>0</td>\n",
              "      <td>1</td>\n",
              "      <td>0</td>\n",
              "      <td>1</td>\n",
              "      <td>0</td>\n",
              "      <td>3</td>\n",
              "      <td>1</td>\n",
              "      <td>6</td>\n",
              "      <td>5</td>\n",
              "      <td>3</td>\n",
              "      <td>4</td>\n",
              "      <td>2</td>\n",
              "      <td>5</td>\n",
              "      <td>2</td>\n",
              "      <td>1</td>\n",
              "      <td>1</td>\n",
              "      <td>1</td>\n",
              "      <td>1</td>\n",
              "      <td>0</td>\n",
              "      <td>0</td>\n",
              "      <td>0</td>\n",
              "      <td>0</td>\n",
              "      <td>1</td>\n",
              "      <td>1</td>\n",
              "      <td>1</td>\n",
              "      <td>3</td>\n",
              "      <td>1</td>\n",
              "      <td>1</td>\n",
              "      <td>2</td>\n",
              "      <td>2</td>\n",
              "      <td>...</td>\n",
              "      <td>167</td>\n",
              "      <td>58</td>\n",
              "      <td>6</td>\n",
              "      <td>0</td>\n",
              "      <td>4</td>\n",
              "      <td>4</td>\n",
              "      <td>2</td>\n",
              "      <td>1</td>\n",
              "      <td>1</td>\n",
              "      <td>1</td>\n",
              "      <td>0</td>\n",
              "      <td>2</td>\n",
              "      <td>1</td>\n",
              "      <td>5</td>\n",
              "      <td>1</td>\n",
              "      <td>0</td>\n",
              "      <td>83</td>\n",
              "      <td>87</td>\n",
              "      <td>162</td>\n",
              "      <td>253</td>\n",
              "      <td>250</td>\n",
              "      <td>252</td>\n",
              "      <td>252</td>\n",
              "      <td>254</td>\n",
              "      <td>152</td>\n",
              "      <td>92</td>\n",
              "      <td>75</td>\n",
              "      <td>0</td>\n",
              "      <td>0</td>\n",
              "      <td>0</td>\n",
              "      <td>0</td>\n",
              "      <td>6</td>\n",
              "      <td>3</td>\n",
              "      <td>0</td>\n",
              "      <td>0</td>\n",
              "      <td>1</td>\n",
              "      <td>0</td>\n",
              "      <td>0</td>\n",
              "      <td>2</td>\n",
              "      <td>112</td>\n",
              "    </tr>\n",
              "    <tr>\n",
              "      <th>4</th>\n",
              "      <td>0</td>\n",
              "      <td>0</td>\n",
              "      <td>0</td>\n",
              "      <td>0</td>\n",
              "      <td>0</td>\n",
              "      <td>0</td>\n",
              "      <td>0</td>\n",
              "      <td>0</td>\n",
              "      <td>0</td>\n",
              "      <td>0</td>\n",
              "      <td>0</td>\n",
              "      <td>0</td>\n",
              "      <td>0</td>\n",
              "      <td>1</td>\n",
              "      <td>2</td>\n",
              "      <td>3</td>\n",
              "      <td>3</td>\n",
              "      <td>5</td>\n",
              "      <td>6</td>\n",
              "      <td>3</td>\n",
              "      <td>1</td>\n",
              "      <td>0</td>\n",
              "      <td>0</td>\n",
              "      <td>5</td>\n",
              "      <td>2</td>\n",
              "      <td>2</td>\n",
              "      <td>2</td>\n",
              "      <td>1</td>\n",
              "      <td>0</td>\n",
              "      <td>0</td>\n",
              "      <td>0</td>\n",
              "      <td>0</td>\n",
              "      <td>0</td>\n",
              "      <td>0</td>\n",
              "      <td>0</td>\n",
              "      <td>0</td>\n",
              "      <td>0</td>\n",
              "      <td>0</td>\n",
              "      <td>0</td>\n",
              "      <td>0</td>\n",
              "      <td>...</td>\n",
              "      <td>2</td>\n",
              "      <td>2</td>\n",
              "      <td>1</td>\n",
              "      <td>1</td>\n",
              "      <td>0</td>\n",
              "      <td>1</td>\n",
              "      <td>0</td>\n",
              "      <td>0</td>\n",
              "      <td>0</td>\n",
              "      <td>0</td>\n",
              "      <td>0</td>\n",
              "      <td>0</td>\n",
              "      <td>1</td>\n",
              "      <td>1</td>\n",
              "      <td>0</td>\n",
              "      <td>36</td>\n",
              "      <td>164</td>\n",
              "      <td>141</td>\n",
              "      <td>42</td>\n",
              "      <td>53</td>\n",
              "      <td>7</td>\n",
              "      <td>1</td>\n",
              "      <td>0</td>\n",
              "      <td>0</td>\n",
              "      <td>4</td>\n",
              "      <td>3</td>\n",
              "      <td>2</td>\n",
              "      <td>1</td>\n",
              "      <td>1</td>\n",
              "      <td>1</td>\n",
              "      <td>0</td>\n",
              "      <td>0</td>\n",
              "      <td>0</td>\n",
              "      <td>0</td>\n",
              "      <td>0</td>\n",
              "      <td>0</td>\n",
              "      <td>0</td>\n",
              "      <td>0</td>\n",
              "      <td>0</td>\n",
              "      <td>112</td>\n",
              "    </tr>\n",
              "  </tbody>\n",
              "</table>\n",
              "<p>5 rows × 785 columns</p>\n",
              "</div>"
            ],
            "text/plain": [
              "   pixel0  pixel1  pixel2  pixel3  ...  pixel781  pixel782  pixel783  label\n",
              "0       0       2       0       1  ...         4         1         1    112\n",
              "1       0       0       0       1  ...         1         0         0    112\n",
              "2       1       0       0       0  ...         1         1         2    112\n",
              "3       2       1       1       0  ...         0         0         2    112\n",
              "4       0       0       0       0  ...         0         0         0    112\n",
              "\n",
              "[5 rows x 785 columns]"
            ]
          },
          "metadata": {
            "tags": []
          },
          "execution_count": 158
        }
      ]
    },
    {
      "cell_type": "code",
      "metadata": {
        "colab": {
          "base_uri": "https://localhost:8080/"
        },
        "id": "KE0bNjK4ss98",
        "outputId": "10145085-b1cc-479f-c95c-0d452b6ef4b8"
      },
      "source": [
        "df.shape"
      ],
      "execution_count": null,
      "outputs": [
        {
          "output_type": "execute_result",
          "data": {
            "text/plain": [
              "(30830, 785)"
            ]
          },
          "metadata": {
            "tags": []
          },
          "execution_count": 159
        }
      ]
    },
    {
      "cell_type": "code",
      "metadata": {
        "colab": {
          "base_uri": "https://localhost:8080/"
        },
        "id": "HOuw-3h5svRZ",
        "outputId": "0cb77acb-1e36-4a55-a551-0a32d224a828"
      },
      "source": [
        "df.label.unique()"
      ],
      "execution_count": null,
      "outputs": [
        {
          "output_type": "execute_result",
          "data": {
            "text/plain": [
              "array([112, 113, 114, 115, 116, 117, 118, 119, 120, 121])"
            ]
          },
          "metadata": {
            "tags": []
          },
          "execution_count": 160
        }
      ]
    },
    {
      "cell_type": "code",
      "metadata": {
        "id": "VWYMXejYs9Ys"
      },
      "source": [
        "df['label'].replace({112:0,113:1,114:2,115:3,116:4,117:5,118:6,119:7,120:8,121:9},inplace=True)"
      ],
      "execution_count": null,
      "outputs": []
    },
    {
      "cell_type": "code",
      "metadata": {
        "colab": {
          "base_uri": "https://localhost:8080/"
        },
        "id": "kjz-R7XztESl",
        "outputId": "550f7daf-b44d-4345-8b90-a202dd76de8c"
      },
      "source": [
        "df.label.unique()"
      ],
      "execution_count": null,
      "outputs": [
        {
          "output_type": "execute_result",
          "data": {
            "text/plain": [
              "array([0, 1, 2, 3, 4, 5, 6, 7, 8, 9])"
            ]
          },
          "metadata": {
            "tags": []
          },
          "execution_count": 162
        }
      ]
    },
    {
      "cell_type": "code",
      "metadata": {
        "colab": {
          "base_uri": "https://localhost:8080/",
          "height": 253
        },
        "id": "hS9JcnjatH3v",
        "outputId": "7613073c-b7b7-4924-ed0b-171d6fa28c4a"
      },
      "source": [
        "df.head()"
      ],
      "execution_count": null,
      "outputs": [
        {
          "output_type": "execute_result",
          "data": {
            "text/html": [
              "<div>\n",
              "<style scoped>\n",
              "    .dataframe tbody tr th:only-of-type {\n",
              "        vertical-align: middle;\n",
              "    }\n",
              "\n",
              "    .dataframe tbody tr th {\n",
              "        vertical-align: top;\n",
              "    }\n",
              "\n",
              "    .dataframe thead th {\n",
              "        text-align: right;\n",
              "    }\n",
              "</style>\n",
              "<table border=\"1\" class=\"dataframe\">\n",
              "  <thead>\n",
              "    <tr style=\"text-align: right;\">\n",
              "      <th></th>\n",
              "      <th>pixel0</th>\n",
              "      <th>pixel1</th>\n",
              "      <th>pixel2</th>\n",
              "      <th>pixel3</th>\n",
              "      <th>pixel4</th>\n",
              "      <th>pixel5</th>\n",
              "      <th>pixel6</th>\n",
              "      <th>pixel7</th>\n",
              "      <th>pixel8</th>\n",
              "      <th>pixel9</th>\n",
              "      <th>pixel10</th>\n",
              "      <th>pixel11</th>\n",
              "      <th>pixel12</th>\n",
              "      <th>pixel13</th>\n",
              "      <th>pixel14</th>\n",
              "      <th>pixel15</th>\n",
              "      <th>pixel16</th>\n",
              "      <th>pixel17</th>\n",
              "      <th>pixel18</th>\n",
              "      <th>pixel19</th>\n",
              "      <th>pixel20</th>\n",
              "      <th>pixel21</th>\n",
              "      <th>pixel22</th>\n",
              "      <th>pixel23</th>\n",
              "      <th>pixel24</th>\n",
              "      <th>pixel25</th>\n",
              "      <th>pixel26</th>\n",
              "      <th>pixel27</th>\n",
              "      <th>pixel28</th>\n",
              "      <th>pixel29</th>\n",
              "      <th>pixel30</th>\n",
              "      <th>pixel31</th>\n",
              "      <th>pixel32</th>\n",
              "      <th>pixel33</th>\n",
              "      <th>pixel34</th>\n",
              "      <th>pixel35</th>\n",
              "      <th>pixel36</th>\n",
              "      <th>pixel37</th>\n",
              "      <th>pixel38</th>\n",
              "      <th>pixel39</th>\n",
              "      <th>...</th>\n",
              "      <th>pixel745</th>\n",
              "      <th>pixel746</th>\n",
              "      <th>pixel747</th>\n",
              "      <th>pixel748</th>\n",
              "      <th>pixel749</th>\n",
              "      <th>pixel750</th>\n",
              "      <th>pixel751</th>\n",
              "      <th>pixel752</th>\n",
              "      <th>pixel753</th>\n",
              "      <th>pixel754</th>\n",
              "      <th>pixel755</th>\n",
              "      <th>pixel756</th>\n",
              "      <th>pixel757</th>\n",
              "      <th>pixel758</th>\n",
              "      <th>pixel759</th>\n",
              "      <th>pixel760</th>\n",
              "      <th>pixel761</th>\n",
              "      <th>pixel762</th>\n",
              "      <th>pixel763</th>\n",
              "      <th>pixel764</th>\n",
              "      <th>pixel765</th>\n",
              "      <th>pixel766</th>\n",
              "      <th>pixel767</th>\n",
              "      <th>pixel768</th>\n",
              "      <th>pixel769</th>\n",
              "      <th>pixel770</th>\n",
              "      <th>pixel771</th>\n",
              "      <th>pixel772</th>\n",
              "      <th>pixel773</th>\n",
              "      <th>pixel774</th>\n",
              "      <th>pixel775</th>\n",
              "      <th>pixel776</th>\n",
              "      <th>pixel777</th>\n",
              "      <th>pixel778</th>\n",
              "      <th>pixel779</th>\n",
              "      <th>pixel780</th>\n",
              "      <th>pixel781</th>\n",
              "      <th>pixel782</th>\n",
              "      <th>pixel783</th>\n",
              "      <th>label</th>\n",
              "    </tr>\n",
              "  </thead>\n",
              "  <tbody>\n",
              "    <tr>\n",
              "      <th>0</th>\n",
              "      <td>0</td>\n",
              "      <td>2</td>\n",
              "      <td>0</td>\n",
              "      <td>1</td>\n",
              "      <td>1</td>\n",
              "      <td>1</td>\n",
              "      <td>1</td>\n",
              "      <td>0</td>\n",
              "      <td>2</td>\n",
              "      <td>3</td>\n",
              "      <td>0</td>\n",
              "      <td>0</td>\n",
              "      <td>3</td>\n",
              "      <td>0</td>\n",
              "      <td>1</td>\n",
              "      <td>1</td>\n",
              "      <td>5</td>\n",
              "      <td>3</td>\n",
              "      <td>3</td>\n",
              "      <td>2</td>\n",
              "      <td>0</td>\n",
              "      <td>0</td>\n",
              "      <td>0</td>\n",
              "      <td>1</td>\n",
              "      <td>0</td>\n",
              "      <td>2</td>\n",
              "      <td>1</td>\n",
              "      <td>1</td>\n",
              "      <td>0</td>\n",
              "      <td>0</td>\n",
              "      <td>0</td>\n",
              "      <td>1</td>\n",
              "      <td>0</td>\n",
              "      <td>0</td>\n",
              "      <td>1</td>\n",
              "      <td>4</td>\n",
              "      <td>3</td>\n",
              "      <td>5</td>\n",
              "      <td>3</td>\n",
              "      <td>4</td>\n",
              "      <td>...</td>\n",
              "      <td>252</td>\n",
              "      <td>251</td>\n",
              "      <td>255</td>\n",
              "      <td>255</td>\n",
              "      <td>255</td>\n",
              "      <td>255</td>\n",
              "      <td>210</td>\n",
              "      <td>162</td>\n",
              "      <td>39</td>\n",
              "      <td>1</td>\n",
              "      <td>2</td>\n",
              "      <td>3</td>\n",
              "      <td>0</td>\n",
              "      <td>0</td>\n",
              "      <td>4</td>\n",
              "      <td>0</td>\n",
              "      <td>4</td>\n",
              "      <td>87</td>\n",
              "      <td>132</td>\n",
              "      <td>242</td>\n",
              "      <td>254</td>\n",
              "      <td>251</td>\n",
              "      <td>253</td>\n",
              "      <td>253</td>\n",
              "      <td>255</td>\n",
              "      <td>254</td>\n",
              "      <td>252</td>\n",
              "      <td>251</td>\n",
              "      <td>253</td>\n",
              "      <td>254</td>\n",
              "      <td>213</td>\n",
              "      <td>96</td>\n",
              "      <td>110</td>\n",
              "      <td>110</td>\n",
              "      <td>34</td>\n",
              "      <td>0</td>\n",
              "      <td>4</td>\n",
              "      <td>1</td>\n",
              "      <td>1</td>\n",
              "      <td>0</td>\n",
              "    </tr>\n",
              "    <tr>\n",
              "      <th>1</th>\n",
              "      <td>0</td>\n",
              "      <td>0</td>\n",
              "      <td>0</td>\n",
              "      <td>1</td>\n",
              "      <td>0</td>\n",
              "      <td>0</td>\n",
              "      <td>2</td>\n",
              "      <td>1</td>\n",
              "      <td>0</td>\n",
              "      <td>1</td>\n",
              "      <td>4</td>\n",
              "      <td>2</td>\n",
              "      <td>0</td>\n",
              "      <td>0</td>\n",
              "      <td>0</td>\n",
              "      <td>0</td>\n",
              "      <td>0</td>\n",
              "      <td>0</td>\n",
              "      <td>0</td>\n",
              "      <td>5</td>\n",
              "      <td>2</td>\n",
              "      <td>1</td>\n",
              "      <td>2</td>\n",
              "      <td>0</td>\n",
              "      <td>0</td>\n",
              "      <td>0</td>\n",
              "      <td>0</td>\n",
              "      <td>0</td>\n",
              "      <td>0</td>\n",
              "      <td>0</td>\n",
              "      <td>1</td>\n",
              "      <td>1</td>\n",
              "      <td>0</td>\n",
              "      <td>2</td>\n",
              "      <td>2</td>\n",
              "      <td>1</td>\n",
              "      <td>3</td>\n",
              "      <td>5</td>\n",
              "      <td>0</td>\n",
              "      <td>0</td>\n",
              "      <td>...</td>\n",
              "      <td>255</td>\n",
              "      <td>255</td>\n",
              "      <td>255</td>\n",
              "      <td>218</td>\n",
              "      <td>179</td>\n",
              "      <td>97</td>\n",
              "      <td>16</td>\n",
              "      <td>0</td>\n",
              "      <td>4</td>\n",
              "      <td>0</td>\n",
              "      <td>0</td>\n",
              "      <td>0</td>\n",
              "      <td>1</td>\n",
              "      <td>0</td>\n",
              "      <td>0</td>\n",
              "      <td>2</td>\n",
              "      <td>2</td>\n",
              "      <td>4</td>\n",
              "      <td>0</td>\n",
              "      <td>0</td>\n",
              "      <td>19</td>\n",
              "      <td>101</td>\n",
              "      <td>198</td>\n",
              "      <td>209</td>\n",
              "      <td>206</td>\n",
              "      <td>207</td>\n",
              "      <td>208</td>\n",
              "      <td>206</td>\n",
              "      <td>205</td>\n",
              "      <td>173</td>\n",
              "      <td>88</td>\n",
              "      <td>42</td>\n",
              "      <td>0</td>\n",
              "      <td>0</td>\n",
              "      <td>0</td>\n",
              "      <td>4</td>\n",
              "      <td>1</td>\n",
              "      <td>0</td>\n",
              "      <td>0</td>\n",
              "      <td>0</td>\n",
              "    </tr>\n",
              "    <tr>\n",
              "      <th>2</th>\n",
              "      <td>1</td>\n",
              "      <td>0</td>\n",
              "      <td>0</td>\n",
              "      <td>0</td>\n",
              "      <td>0</td>\n",
              "      <td>0</td>\n",
              "      <td>0</td>\n",
              "      <td>2</td>\n",
              "      <td>1</td>\n",
              "      <td>1</td>\n",
              "      <td>1</td>\n",
              "      <td>2</td>\n",
              "      <td>3</td>\n",
              "      <td>5</td>\n",
              "      <td>2</td>\n",
              "      <td>6</td>\n",
              "      <td>4</td>\n",
              "      <td>4</td>\n",
              "      <td>4</td>\n",
              "      <td>2</td>\n",
              "      <td>4</td>\n",
              "      <td>4</td>\n",
              "      <td>1</td>\n",
              "      <td>2</td>\n",
              "      <td>1</td>\n",
              "      <td>1</td>\n",
              "      <td>0</td>\n",
              "      <td>0</td>\n",
              "      <td>0</td>\n",
              "      <td>0</td>\n",
              "      <td>0</td>\n",
              "      <td>0</td>\n",
              "      <td>0</td>\n",
              "      <td>0</td>\n",
              "      <td>1</td>\n",
              "      <td>1</td>\n",
              "      <td>1</td>\n",
              "      <td>1</td>\n",
              "      <td>2</td>\n",
              "      <td>2</td>\n",
              "      <td>...</td>\n",
              "      <td>194</td>\n",
              "      <td>221</td>\n",
              "      <td>255</td>\n",
              "      <td>255</td>\n",
              "      <td>221</td>\n",
              "      <td>129</td>\n",
              "      <td>40</td>\n",
              "      <td>0</td>\n",
              "      <td>5</td>\n",
              "      <td>1</td>\n",
              "      <td>2</td>\n",
              "      <td>0</td>\n",
              "      <td>0</td>\n",
              "      <td>1</td>\n",
              "      <td>2</td>\n",
              "      <td>1</td>\n",
              "      <td>2</td>\n",
              "      <td>2</td>\n",
              "      <td>1</td>\n",
              "      <td>0</td>\n",
              "      <td>50</td>\n",
              "      <td>137</td>\n",
              "      <td>131</td>\n",
              "      <td>134</td>\n",
              "      <td>143</td>\n",
              "      <td>238</td>\n",
              "      <td>255</td>\n",
              "      <td>255</td>\n",
              "      <td>255</td>\n",
              "      <td>255</td>\n",
              "      <td>232</td>\n",
              "      <td>160</td>\n",
              "      <td>50</td>\n",
              "      <td>1</td>\n",
              "      <td>0</td>\n",
              "      <td>5</td>\n",
              "      <td>1</td>\n",
              "      <td>1</td>\n",
              "      <td>2</td>\n",
              "      <td>0</td>\n",
              "    </tr>\n",
              "    <tr>\n",
              "      <th>3</th>\n",
              "      <td>2</td>\n",
              "      <td>1</td>\n",
              "      <td>1</td>\n",
              "      <td>0</td>\n",
              "      <td>0</td>\n",
              "      <td>0</td>\n",
              "      <td>1</td>\n",
              "      <td>0</td>\n",
              "      <td>2</td>\n",
              "      <td>1</td>\n",
              "      <td>0</td>\n",
              "      <td>1</td>\n",
              "      <td>0</td>\n",
              "      <td>1</td>\n",
              "      <td>0</td>\n",
              "      <td>3</td>\n",
              "      <td>1</td>\n",
              "      <td>6</td>\n",
              "      <td>5</td>\n",
              "      <td>3</td>\n",
              "      <td>4</td>\n",
              "      <td>2</td>\n",
              "      <td>5</td>\n",
              "      <td>2</td>\n",
              "      <td>1</td>\n",
              "      <td>1</td>\n",
              "      <td>1</td>\n",
              "      <td>1</td>\n",
              "      <td>0</td>\n",
              "      <td>0</td>\n",
              "      <td>0</td>\n",
              "      <td>0</td>\n",
              "      <td>1</td>\n",
              "      <td>1</td>\n",
              "      <td>1</td>\n",
              "      <td>3</td>\n",
              "      <td>1</td>\n",
              "      <td>1</td>\n",
              "      <td>2</td>\n",
              "      <td>2</td>\n",
              "      <td>...</td>\n",
              "      <td>167</td>\n",
              "      <td>58</td>\n",
              "      <td>6</td>\n",
              "      <td>0</td>\n",
              "      <td>4</td>\n",
              "      <td>4</td>\n",
              "      <td>2</td>\n",
              "      <td>1</td>\n",
              "      <td>1</td>\n",
              "      <td>1</td>\n",
              "      <td>0</td>\n",
              "      <td>2</td>\n",
              "      <td>1</td>\n",
              "      <td>5</td>\n",
              "      <td>1</td>\n",
              "      <td>0</td>\n",
              "      <td>83</td>\n",
              "      <td>87</td>\n",
              "      <td>162</td>\n",
              "      <td>253</td>\n",
              "      <td>250</td>\n",
              "      <td>252</td>\n",
              "      <td>252</td>\n",
              "      <td>254</td>\n",
              "      <td>152</td>\n",
              "      <td>92</td>\n",
              "      <td>75</td>\n",
              "      <td>0</td>\n",
              "      <td>0</td>\n",
              "      <td>0</td>\n",
              "      <td>0</td>\n",
              "      <td>6</td>\n",
              "      <td>3</td>\n",
              "      <td>0</td>\n",
              "      <td>0</td>\n",
              "      <td>1</td>\n",
              "      <td>0</td>\n",
              "      <td>0</td>\n",
              "      <td>2</td>\n",
              "      <td>0</td>\n",
              "    </tr>\n",
              "    <tr>\n",
              "      <th>4</th>\n",
              "      <td>0</td>\n",
              "      <td>0</td>\n",
              "      <td>0</td>\n",
              "      <td>0</td>\n",
              "      <td>0</td>\n",
              "      <td>0</td>\n",
              "      <td>0</td>\n",
              "      <td>0</td>\n",
              "      <td>0</td>\n",
              "      <td>0</td>\n",
              "      <td>0</td>\n",
              "      <td>0</td>\n",
              "      <td>0</td>\n",
              "      <td>1</td>\n",
              "      <td>2</td>\n",
              "      <td>3</td>\n",
              "      <td>3</td>\n",
              "      <td>5</td>\n",
              "      <td>6</td>\n",
              "      <td>3</td>\n",
              "      <td>1</td>\n",
              "      <td>0</td>\n",
              "      <td>0</td>\n",
              "      <td>5</td>\n",
              "      <td>2</td>\n",
              "      <td>2</td>\n",
              "      <td>2</td>\n",
              "      <td>1</td>\n",
              "      <td>0</td>\n",
              "      <td>0</td>\n",
              "      <td>0</td>\n",
              "      <td>0</td>\n",
              "      <td>0</td>\n",
              "      <td>0</td>\n",
              "      <td>0</td>\n",
              "      <td>0</td>\n",
              "      <td>0</td>\n",
              "      <td>0</td>\n",
              "      <td>0</td>\n",
              "      <td>0</td>\n",
              "      <td>...</td>\n",
              "      <td>2</td>\n",
              "      <td>2</td>\n",
              "      <td>1</td>\n",
              "      <td>1</td>\n",
              "      <td>0</td>\n",
              "      <td>1</td>\n",
              "      <td>0</td>\n",
              "      <td>0</td>\n",
              "      <td>0</td>\n",
              "      <td>0</td>\n",
              "      <td>0</td>\n",
              "      <td>0</td>\n",
              "      <td>1</td>\n",
              "      <td>1</td>\n",
              "      <td>0</td>\n",
              "      <td>36</td>\n",
              "      <td>164</td>\n",
              "      <td>141</td>\n",
              "      <td>42</td>\n",
              "      <td>53</td>\n",
              "      <td>7</td>\n",
              "      <td>1</td>\n",
              "      <td>0</td>\n",
              "      <td>0</td>\n",
              "      <td>4</td>\n",
              "      <td>3</td>\n",
              "      <td>2</td>\n",
              "      <td>1</td>\n",
              "      <td>1</td>\n",
              "      <td>1</td>\n",
              "      <td>0</td>\n",
              "      <td>0</td>\n",
              "      <td>0</td>\n",
              "      <td>0</td>\n",
              "      <td>0</td>\n",
              "      <td>0</td>\n",
              "      <td>0</td>\n",
              "      <td>0</td>\n",
              "      <td>0</td>\n",
              "      <td>0</td>\n",
              "    </tr>\n",
              "  </tbody>\n",
              "</table>\n",
              "<p>5 rows × 785 columns</p>\n",
              "</div>"
            ],
            "text/plain": [
              "   pixel0  pixel1  pixel2  pixel3  ...  pixel781  pixel782  pixel783  label\n",
              "0       0       2       0       1  ...         4         1         1      0\n",
              "1       0       0       0       1  ...         1         0         0      0\n",
              "2       1       0       0       0  ...         1         1         2      0\n",
              "3       2       1       1       0  ...         0         0         2      0\n",
              "4       0       0       0       0  ...         0         0         0      0\n",
              "\n",
              "[5 rows x 785 columns]"
            ]
          },
          "metadata": {
            "tags": []
          },
          "execution_count": 163
        }
      ]
    },
    {
      "cell_type": "code",
      "metadata": {
        "id": "15en-zZktKPS"
      },
      "source": [
        "X=df.drop('label',axis=1)\n",
        "y=df['label']"
      ],
      "execution_count": null,
      "outputs": []
    },
    {
      "cell_type": "code",
      "metadata": {
        "id": "vesoZdwxtZry"
      },
      "source": [
        "X_train,X_test,y_train,y_test=train_test_split(X,y,test_size=0.20,random_state=123)"
      ],
      "execution_count": null,
      "outputs": []
    },
    {
      "cell_type": "code",
      "metadata": {
        "colab": {
          "base_uri": "https://localhost:8080/"
        },
        "id": "sW3B2GGhtrbO",
        "outputId": "400e2cb3-aa65-4485-d46e-b837d299282a"
      },
      "source": [
        "len(X_train),len(X_test)"
      ],
      "execution_count": null,
      "outputs": [
        {
          "output_type": "execute_result",
          "data": {
            "text/plain": [
              "(24664, 6166)"
            ]
          },
          "metadata": {
            "tags": []
          },
          "execution_count": 166
        }
      ]
    },
    {
      "cell_type": "code",
      "metadata": {
        "colab": {
          "base_uri": "https://localhost:8080/"
        },
        "id": "GzPQsDGUt9px",
        "outputId": "72bbafc4-0136-41e3-eace-4d91d133876a"
      },
      "source": [
        "X_train.shape"
      ],
      "execution_count": null,
      "outputs": [
        {
          "output_type": "execute_result",
          "data": {
            "text/plain": [
              "(24664, 784)"
            ]
          },
          "metadata": {
            "tags": []
          },
          "execution_count": 167
        }
      ]
    },
    {
      "cell_type": "code",
      "metadata": {
        "id": "xlcjfdFsuAmF"
      },
      "source": [
        "#Reshaping\n",
        "X_train,X_test=X_train.values.reshape(-1,28,28),X_test.values.reshape(-1,28,28)"
      ],
      "execution_count": null,
      "outputs": []
    },
    {
      "cell_type": "code",
      "metadata": {
        "colab": {
          "base_uri": "https://localhost:8080/"
        },
        "id": "oO4ueJTsuer2",
        "outputId": "d23773b4-b66d-42b1-cfe6-6fc30194886c"
      },
      "source": [
        "X_train.shape,X_test.shape"
      ],
      "execution_count": null,
      "outputs": [
        {
          "output_type": "execute_result",
          "data": {
            "text/plain": [
              "((24664, 28, 28), (6166, 28, 28))"
            ]
          },
          "metadata": {
            "tags": []
          },
          "execution_count": 169
        }
      ]
    },
    {
      "cell_type": "code",
      "metadata": {
        "colab": {
          "base_uri": "https://localhost:8080/"
        },
        "id": "6cGFK8c6ujKG",
        "outputId": "dd67f536-249a-46ab-b69e-57b49cce2a85"
      },
      "source": [
        "X_train[0].shape"
      ],
      "execution_count": null,
      "outputs": [
        {
          "output_type": "execute_result",
          "data": {
            "text/plain": [
              "(28, 28)"
            ]
          },
          "metadata": {
            "tags": []
          },
          "execution_count": 170
        }
      ]
    },
    {
      "cell_type": "code",
      "metadata": {
        "colab": {
          "base_uri": "https://localhost:8080/"
        },
        "id": "3h-hLww9usxr",
        "outputId": "86628568-bdc0-4d1f-b149-d7d2ee5c92b4"
      },
      "source": [
        "print(X_train[0])"
      ],
      "execution_count": null,
      "outputs": [
        {
          "output_type": "stream",
          "text": [
            "[[  1   0   1   1   3   5   6   6   0   0   6   5   1   2   2   0   0   0\n",
            "    0   0   0   0   0   0   0   0   0   0]\n",
            " [  1   2   2   3   4   0   0   0  46  16   0   0   2   2   2   0   0   0\n",
            "    0   0   0   0   0   0   0   0   0   0]\n",
            " [  1   1   4   0   0  39 128 184 240 211 139  29   3   2   2   1   0   0\n",
            "    0   0   0   0   0   0   0   0   0   0]\n",
            " [  3   2   0  31 153 247 255 255 249 255 255 178   0   4   2   1   0   0\n",
            "    0   0   0   0   0   0   0   0   0   0]\n",
            " [  5   0  65 234 255 252 250 255 255 255 248 249  99   0   3   1   0   0\n",
            "    0   0   0   0   0   0   0   0   0   0]\n",
            " [  0  46 231 255 248 255 255 203 158 193 251 255 168   0   5   1   0   0\n",
            "    0   0   0   0   0   0   0   0   0   0]\n",
            " [  0 122 255 250 255 180  68  20   0   5 211 255 224  36   1   2   0   0\n",
            "    0   0   0   0   0   0   0   0   0   0]\n",
            " [  0 121 255 252 146   0   0   0   9   0 111 255 253  49   0   2   0   0\n",
            "    0   0   0   0   0   0   0   0   0   0]\n",
            " [  0 113 254 224  10   0   7   2   4   1  67 255 248  56   0   4   2   2\n",
            "    0   0   1   0   0   0   0   0   0   0]\n",
            " [  0  28 242 240  56   1   4   1   3   0  74 255 255 147   1   3   1   1\n",
            "    0   0   1   0   0   0   0   0   0   0]\n",
            " [  5   0 118 255 113   0   7   2   4   0  75 255 255 160   0   3   0   0\n",
            "    0   0   0   0   0   0   0   0   0   0]\n",
            " [  3   1  11 235 196   2   1   1   4   0  59 244 255 156   0   3   0   0\n",
            "    0   0   0   0   0   0   0   0   0   0]\n",
            " [  1   4   1  78 229  25   0   3   2   2   0 183 255 155   0   5   1   0\n",
            "    0   0   0   0   0   0   0   0   0   0]\n",
            " [  0   1   4   0 109 102   0   4   3   1  35 222 255 156   0   4   2   0\n",
            "    0   0   0   0   0   0   0   0   0   0]\n",
            " [  0   2   2   3   3  17   1   1   5   0  78 255 255 168   0   3   1   0\n",
            "    0   0   0   0   0   0   0   0   0   0]\n",
            " [  2   1   1   5   3   0   2   2   4   0  64 254 255 134   0   3   0   0\n",
            "    0   0   0   0   0   0   0   0   0   0]\n",
            " [  0   0   1   1   2   1   2   1   4   0 145 255 250  48   0   2   0   0\n",
            "    0   0   1   1   0   0   0   0   0   0]\n",
            " [  1   0   1   0   1   0   1   1   3   1 187 255 254  58   0   3   0   0\n",
            "    0   0   0   0   0   0   0   0   0   0]\n",
            " [  0   0   0   0   0   0   0   3   4   0 179 254 221  28   1   3   1   0\n",
            "    0   0   0   0   1   0   0   0   0   0]\n",
            " [  0   0   0   0   0   0   1   5   0  80 239 255 134   0   4   1   0   0\n",
            "    0   0   0   0   0   0   0   0   0   0]\n",
            " [  0   0   0   0   0   0   2   3   7 194 255 235  42   2   4   2   0   0\n",
            "    0   0   0   0   0   0   0   0   0   0]\n",
            " [  0   0   0   0   0   0   3   0  68 250 254 184   0   3   2   1   2   0\n",
            "    0   0   0   0   1   0   0   0   0   0]\n",
            " [  0   0   0   0   1   1   4   4 163 255 255 124   3   8   5   3   3   2\n",
            "    1   1   0   1   1   0   1   1   1   0]\n",
            " [  0   0   0   0   3   4   0  36 238 253 255  61   0   0   0   1   6   4\n",
            "    3   3   3   3   2   1   1   1   1   0]\n",
            " [  0   0   0   0   2   3  11 161 255 248 253 214  99  69  69   4   0   0\n",
            "    0   0   0   1   5   4   2   2   4   1]\n",
            " [  0   0   0   1   3   0  31 231 254 255 255 255 255 255 253 186 186 115\n",
            "   43  49  25   2   0   0   0   0   0   0]\n",
            " [  0   0   0   0   4   1  13 218 220 135 231 225 239 255 255 255 255 255\n",
            "  249 253 213 185 151 160  64  61  74  47]\n",
            " [  0   0   0   0   1   1   2 114  69   0  30  21  62 149 148 232 250 251\n",
            "  254 254 255 255 255 255 246 246 215 119]]\n"
          ],
          "name": "stdout"
        }
      ]
    },
    {
      "cell_type": "code",
      "metadata": {
        "colab": {
          "base_uri": "https://localhost:8080/",
          "height": 292
        },
        "id": "JMJ739yGuv8E",
        "outputId": "fd8ecbbd-80cc-44c8-985f-8c9f36095949"
      },
      "source": [
        "plt.matshow(X_train[0])"
      ],
      "execution_count": null,
      "outputs": [
        {
          "output_type": "execute_result",
          "data": {
            "text/plain": [
              "<matplotlib.image.AxesImage at 0x7fada45b38d0>"
            ]
          },
          "metadata": {
            "tags": []
          },
          "execution_count": 172
        },
        {
          "output_type": "display_data",
          "data": {
            "image/png": "[encoded data removed]",
            "text/plain": [
              "<Figure size 288x288 with 1 Axes>"
            ]
          },
          "metadata": {
            "tags": [],
            "needs_background": "light"
          }
        }
      ]
    },
    {
      "cell_type": "code",
      "metadata": {
        "id": "sMNWB5zGu923"
      },
      "source": [
        "#Scaling\n",
        "X_train, X_test = X_train / 255, X_test / 255"
      ],
      "execution_count": null,
      "outputs": []
    },
    {
      "cell_type": "code",
      "metadata": {
        "colab": {
          "base_uri": "https://localhost:8080/"
        },
        "id": "sCmnGNSivT7p",
        "outputId": "18678a8c-24b0-4639-e482-521445a4e575"
      },
      "source": [
        "print(X_train[0])"
      ],
      "execution_count": null,
      "outputs": [
        {
          "output_type": "stream",
          "text": [
            "[[0.00392157 0.         0.00392157 0.00392157 0.01176471 0.01960784\n",
            "  0.02352941 0.02352941 0.         0.         0.02352941 0.01960784\n",
            "  0.00392157 0.00784314 0.00784314 0.         0.         0.\n",
            "  0.         0.         0.         0.         0.         0.\n",
            "  0.         0.         0.         0.        ]\n",
            " [0.00392157 0.00784314 0.00784314 0.01176471 0.01568627 0.\n",
            "  0.         0.         0.18039216 0.0627451  0.         0.\n",
            "  0.00784314 0.00784314 0.00784314 0.         0.         0.\n",
            "  0.         0.         0.         0.         0.         0.\n",
            "  0.         0.         0.         0.        ]\n",
            " [0.00392157 0.00392157 0.01568627 0.         0.         0.15294118\n",
            "  0.50196078 0.72156863 0.94117647 0.82745098 0.54509804 0.11372549\n",
            "  0.01176471 0.00784314 0.00784314 0.00392157 0.         0.\n",
            "  0.         0.         0.         0.         0.         0.\n",
            "  0.         0.         0.         0.        ]\n",
            " [0.01176471 0.00784314 0.         0.12156863 0.6        0.96862745\n",
            "  1.         1.         0.97647059 1.         1.         0.69803922\n",
            "  0.         0.01568627 0.00784314 0.00392157 0.         0.\n",
            "  0.         0.         0.         0.         0.         0.\n",
            "  0.         0.         0.         0.        ]\n",
            " [0.01960784 0.         0.25490196 0.91764706 1.         0.98823529\n",
            "  0.98039216 1.         1.         1.         0.97254902 0.97647059\n",
            "  0.38823529 0.         0.01176471 0.00392157 0.         0.\n",
            "  0.         0.         0.         0.         0.         0.\n",
            "  0.         0.         0.         0.        ]\n",
            " [0.         0.18039216 0.90588235 1.         0.97254902 1.\n",
            "  1.         0.79607843 0.61960784 0.75686275 0.98431373 1.\n",
            "  0.65882353 0.         0.01960784 0.00392157 0.         0.\n",
            "  0.         0.         0.         0.         0.         0.\n",
            "  0.         0.         0.         0.        ]\n",
            " [0.         0.47843137 1.         0.98039216 1.         0.70588235\n",
            "  0.26666667 0.07843137 0.         0.01960784 0.82745098 1.\n",
            "  0.87843137 0.14117647 0.00392157 0.00784314 0.         0.\n",
            "  0.         0.         0.         0.         0.         0.\n",
            "  0.         0.         0.         0.        ]\n",
            " [0.         0.4745098  1.         0.98823529 0.57254902 0.\n",
            "  0.         0.         0.03529412 0.         0.43529412 1.\n",
            "  0.99215686 0.19215686 0.         0.00784314 0.         0.\n",
            "  0.         0.         0.         0.         0.         0.\n",
            "  0.         0.         0.         0.        ]\n",
            " [0.         0.44313725 0.99607843 0.87843137 0.03921569 0.\n",
            "  0.02745098 0.00784314 0.01568627 0.00392157 0.2627451  1.\n",
            "  0.97254902 0.21960784 0.         0.01568627 0.00784314 0.00784314\n",
            "  0.         0.         0.00392157 0.         0.         0.\n",
            "  0.         0.         0.         0.        ]\n",
            " [0.         0.10980392 0.94901961 0.94117647 0.21960784 0.00392157\n",
            "  0.01568627 0.00392157 0.01176471 0.         0.29019608 1.\n",
            "  1.         0.57647059 0.00392157 0.01176471 0.00392157 0.00392157\n",
            "  0.         0.         0.00392157 0.         0.         0.\n",
            "  0.         0.         0.         0.        ]\n",
            " [0.01960784 0.         0.4627451  1.         0.44313725 0.\n",
            "  0.02745098 0.00784314 0.01568627 0.         0.29411765 1.\n",
            "  1.         0.62745098 0.         0.01176471 0.         0.\n",
            "  0.         0.         0.         0.         0.         0.\n",
            "  0.         0.         0.         0.        ]\n",
            " [0.01176471 0.00392157 0.04313725 0.92156863 0.76862745 0.00784314\n",
            "  0.00392157 0.00392157 0.01568627 0.         0.23137255 0.95686275\n",
            "  1.         0.61176471 0.         0.01176471 0.         0.\n",
            "  0.         0.         0.         0.         0.         0.\n",
            "  0.         0.         0.         0.        ]\n",
            " [0.00392157 0.01568627 0.00392157 0.30588235 0.89803922 0.09803922\n",
            "  0.         0.01176471 0.00784314 0.00784314 0.         0.71764706\n",
            "  1.         0.60784314 0.         0.01960784 0.00392157 0.\n",
            "  0.         0.         0.         0.         0.         0.\n",
            "  0.         0.         0.         0.        ]\n",
            " [0.         0.00392157 0.01568627 0.         0.42745098 0.4\n",
            "  0.         0.01568627 0.01176471 0.00392157 0.1372549  0.87058824\n",
            "  1.         0.61176471 0.         0.01568627 0.00784314 0.\n",
            "  0.         0.         0.         0.         0.         0.\n",
            "  0.         0.         0.         0.        ]\n",
            " [0.         0.00784314 0.00784314 0.01176471 0.01176471 0.06666667\n",
            "  0.00392157 0.00392157 0.01960784 0.         0.30588235 1.\n",
            "  1.         0.65882353 0.         0.01176471 0.00392157 0.\n",
            "  0.         0.         0.         0.         0.         0.\n",
            "  0.         0.         0.         0.        ]\n",
            " [0.00784314 0.00392157 0.00392157 0.01960784 0.01176471 0.\n",
            "  0.00784314 0.00784314 0.01568627 0.         0.25098039 0.99607843\n",
            "  1.         0.5254902  0.         0.01176471 0.         0.\n",
            "  0.         0.         0.         0.         0.         0.\n",
            "  0.         0.         0.         0.        ]\n",
            " [0.         0.         0.00392157 0.00392157 0.00784314 0.00392157\n",
            "  0.00784314 0.00392157 0.01568627 0.         0.56862745 1.\n",
            "  0.98039216 0.18823529 0.         0.00784314 0.         0.\n",
            "  0.         0.         0.00392157 0.00392157 0.         0.\n",
            "  0.         0.         0.         0.        ]\n",
            " [0.00392157 0.         0.00392157 0.         0.00392157 0.\n",
            "  0.00392157 0.00392157 0.01176471 0.00392157 0.73333333 1.\n",
            "  0.99607843 0.22745098 0.         0.01176471 0.         0.\n",
            "  0.         0.         0.         0.         0.         0.\n",
            "  0.         0.         0.         0.        ]\n",
            " [0.         0.         0.         0.         0.         0.\n",
            "  0.         0.01176471 0.01568627 0.         0.70196078 0.99607843\n",
            "  0.86666667 0.10980392 0.00392157 0.01176471 0.00392157 0.\n",
            "  0.         0.         0.         0.         0.00392157 0.\n",
            "  0.         0.         0.         0.        ]\n",
            " [0.         0.         0.         0.         0.         0.\n",
            "  0.00392157 0.01960784 0.         0.31372549 0.9372549  1.\n",
            "  0.5254902  0.         0.01568627 0.00392157 0.         0.\n",
            "  0.         0.         0.         0.         0.         0.\n",
            "  0.         0.         0.         0.        ]\n",
            " [0.         0.         0.         0.         0.         0.\n",
            "  0.00784314 0.01176471 0.02745098 0.76078431 1.         0.92156863\n",
            "  0.16470588 0.00784314 0.01568627 0.00784314 0.         0.\n",
            "  0.         0.         0.         0.         0.         0.\n",
            "  0.         0.         0.         0.        ]\n",
            " [0.         0.         0.         0.         0.         0.\n",
            "  0.01176471 0.         0.26666667 0.98039216 0.99607843 0.72156863\n",
            "  0.         0.01176471 0.00784314 0.00392157 0.00784314 0.\n",
            "  0.         0.         0.         0.         0.00392157 0.\n",
            "  0.         0.         0.         0.        ]\n",
            " [0.         0.         0.         0.         0.00392157 0.00392157\n",
            "  0.01568627 0.01568627 0.63921569 1.         1.         0.48627451\n",
            "  0.01176471 0.03137255 0.01960784 0.01176471 0.01176471 0.00784314\n",
            "  0.00392157 0.00392157 0.         0.00392157 0.00392157 0.\n",
            "  0.00392157 0.00392157 0.00392157 0.        ]\n",
            " [0.         0.         0.         0.         0.01176471 0.01568627\n",
            "  0.         0.14117647 0.93333333 0.99215686 1.         0.23921569\n",
            "  0.         0.         0.         0.00392157 0.02352941 0.01568627\n",
            "  0.01176471 0.01176471 0.01176471 0.01176471 0.00784314 0.00392157\n",
            "  0.00392157 0.00392157 0.00392157 0.        ]\n",
            " [0.         0.         0.         0.         0.00784314 0.01176471\n",
            "  0.04313725 0.63137255 1.         0.97254902 0.99215686 0.83921569\n",
            "  0.38823529 0.27058824 0.27058824 0.01568627 0.         0.\n",
            "  0.         0.         0.         0.00392157 0.01960784 0.01568627\n",
            "  0.00784314 0.00784314 0.01568627 0.00392157]\n",
            " [0.         0.         0.         0.00392157 0.01176471 0.\n",
            "  0.12156863 0.90588235 0.99607843 1.         1.         1.\n",
            "  1.         1.         0.99215686 0.72941176 0.72941176 0.45098039\n",
            "  0.16862745 0.19215686 0.09803922 0.00784314 0.         0.\n",
            "  0.         0.         0.         0.        ]\n",
            " [0.         0.         0.         0.         0.01568627 0.00392157\n",
            "  0.05098039 0.85490196 0.8627451  0.52941176 0.90588235 0.88235294\n",
            "  0.9372549  1.         1.         1.         1.         1.\n",
            "  0.97647059 0.99215686 0.83529412 0.7254902  0.59215686 0.62745098\n",
            "  0.25098039 0.23921569 0.29019608 0.18431373]\n",
            " [0.         0.         0.         0.         0.00392157 0.00392157\n",
            "  0.00784314 0.44705882 0.27058824 0.         0.11764706 0.08235294\n",
            "  0.24313725 0.58431373 0.58039216 0.90980392 0.98039216 0.98431373\n",
            "  0.99607843 0.99607843 1.         1.         1.         1.\n",
            "  0.96470588 0.96470588 0.84313725 0.46666667]]\n"
          ],
          "name": "stdout"
        }
      ]
    },
    {
      "cell_type": "code",
      "metadata": {
        "colab": {
          "base_uri": "https://localhost:8080/"
        },
        "id": "MzJWJtkM35QJ",
        "outputId": "60d5fd5c-6bb9-4308-d840-23114b4c6206"
      },
      "source": [
        "X_train[0].shape"
      ],
      "execution_count": null,
      "outputs": [
        {
          "output_type": "execute_result",
          "data": {
            "text/plain": [
              "(28, 28)"
            ]
          },
          "metadata": {
            "tags": []
          },
          "execution_count": 175
        }
      ]
    },
    {
      "cell_type": "code",
      "metadata": {
        "colab": {
          "base_uri": "https://localhost:8080/"
        },
        "id": "DsPy6AFiggKy",
        "outputId": "92a53b38-69a5-42b4-9e56-21816d24e227"
      },
      "source": [
        "X_train=X_train.reshape(len(X_train),28,28,1)\n",
        "X_test=X_test.reshape(len(X_test),28,28,1)\n",
        "X_train[0].shape"
      ],
      "execution_count": null,
      "outputs": [
        {
          "output_type": "execute_result",
          "data": {
            "text/plain": [
              "(28, 28, 1)"
            ]
          },
          "metadata": {
            "tags": []
          },
          "execution_count": 176
        }
      ]
    },
    {
      "cell_type": "code",
      "metadata": {
        "id": "PmthiPhtgvZV"
      },
      "source": [
        "data_aug=keras.Sequential([\n",
        "                           keras.layers.experimental.preprocessing.RandomFlip('horizontal',input_shape=(28,28,1)),\n",
        "                           keras.layers.experimental.preprocessing.RandomRotation(0.1),\n",
        "                           keras.layers.experimental.preprocessing.RandomZoom(0.1)\n",
        "])"
      ],
      "execution_count": null,
      "outputs": []
    },
    {
      "cell_type": "code",
      "metadata": {
        "colab": {
          "base_uri": "https://localhost:8080/"
        },
        "id": "t-dL7rlpwBXd",
        "outputId": "0bafd03e-10b5-492a-8914-b7ee0bed9b00"
      },
      "source": [
        "model=keras.Sequential([\n",
        "                        data_aug,\n",
        "                        keras.layers.Conv2D(filters=32,kernel_size=(3,3),padding='same',activation='relu',kernel_initializer='he_uniform'),\n",
        "                        keras.layers.BatchNormalization(),\n",
        "                        keras.layers.MaxPool2D(2,2),\n",
        "                        \n",
        "                        keras.layers.Conv2D(filters=64,kernel_size=(3,3),padding='same',activation='relu',kernel_initializer='he_uniform'),\n",
        "                        keras.layers.Conv2D(filters=64,kernel_size=(3,3),padding='same',activation='relu',kernel_initializer='he_uniform'),\n",
        "                        keras.layers.BatchNormalization(),\n",
        "                        keras.layers.MaxPool2D(2,2),\n",
        "\n",
        "                        keras.layers.Conv2D(filters=128,kernel_size=(3,3),padding='same',activation='relu',kernel_initializer='he_uniform'),\n",
        "                        keras.layers.Conv2D(filters=128,kernel_size=(3,3),padding='same',activation='relu',kernel_initializer='he_uniform'),\n",
        "                        keras.layers.BatchNormalization(),\n",
        "                        keras.layers.MaxPool2D(2,2),\n",
        "                        \n",
        "                        keras.layers.Conv2D(filters=256,kernel_size=(3,3),padding='same',activation='relu',kernel_initializer='he_uniform'),\n",
        "                        keras.layers.BatchNormalization(),\n",
        "                        keras.layers.MaxPool2D(2,2),\n",
        "\n",
        "                        keras.layers.Flatten(),\n",
        "                        keras.layers.Dense(units=100,kernel_initializer='he_uniform',activation='relu'),\n",
        "                        keras.layers.Dropout(0.20),\n",
        "                        keras.layers.Dense(10,kernel_initializer='glorot_uniform',activation='softmax')\n",
        "])\n",
        "\n",
        "\n",
        "model.compile(\n",
        "    optimizer='adam',\n",
        "    loss='sparse_categorical_crossentropy',\n",
        "    metrics=['accuracy']\n",
        ")\n",
        "history=model.fit(X_train,y_train,epochs=100,validation_split=0.20,batch_size=100)"
      ],
      "execution_count": null,
      "outputs": [
        {
          "output_type": "stream",
          "text": [
            "Epoch 1/100\n",
            "198/198 [==============================] - 4s 12ms/step - loss: 1.1459 - accuracy: 0.6379 - val_loss: 0.5599 - val_accuracy: 0.8344\n",
            "Epoch 2/100\n",
            "198/198 [==============================] - 2s 10ms/step - loss: 0.3626 - accuracy: 0.8820 - val_loss: 0.2319 - val_accuracy: 0.9268\n",
            "Epoch 3/100\n",
            "198/198 [==============================] - 2s 10ms/step - loss: 0.2551 - accuracy: 0.9166 - val_loss: 0.1752 - val_accuracy: 0.9453\n",
            "Epoch 4/100\n",
            "198/198 [==============================] - 2s 10ms/step - loss: 0.2077 - accuracy: 0.9326 - val_loss: 0.2169 - val_accuracy: 0.9357\n",
            "Epoch 5/100\n",
            "198/198 [==============================] - 2s 10ms/step - loss: 0.1707 - accuracy: 0.9451 - val_loss: 0.1202 - val_accuracy: 0.9603\n",
            "Epoch 6/100\n",
            "198/198 [==============================] - 2s 10ms/step - loss: 0.1577 - accuracy: 0.9523 - val_loss: 0.2149 - val_accuracy: 0.9325\n",
            "Epoch 7/100\n",
            "198/198 [==============================] - 2s 10ms/step - loss: 0.1469 - accuracy: 0.9555 - val_loss: 0.0908 - val_accuracy: 0.9720\n",
            "Epoch 8/100\n",
            "198/198 [==============================] - 2s 10ms/step - loss: 0.1241 - accuracy: 0.9602 - val_loss: 0.1031 - val_accuracy: 0.9686\n",
            "Epoch 9/100\n",
            "198/198 [==============================] - 2s 10ms/step - loss: 0.1113 - accuracy: 0.9655 - val_loss: 0.1261 - val_accuracy: 0.9615\n",
            "Epoch 10/100\n",
            "198/198 [==============================] - 2s 10ms/step - loss: 0.0934 - accuracy: 0.9700 - val_loss: 0.1201 - val_accuracy: 0.9633\n",
            "Epoch 11/100\n",
            "198/198 [==============================] - 2s 10ms/step - loss: 0.0926 - accuracy: 0.9718 - val_loss: 0.1262 - val_accuracy: 0.9607\n",
            "Epoch 12/100\n",
            "198/198 [==============================] - 2s 10ms/step - loss: 0.0906 - accuracy: 0.9722 - val_loss: 0.1051 - val_accuracy: 0.9696\n",
            "Epoch 13/100\n",
            "198/198 [==============================] - 2s 10ms/step - loss: 0.0813 - accuracy: 0.9739 - val_loss: 0.1129 - val_accuracy: 0.9680\n",
            "Epoch 14/100\n",
            "198/198 [==============================] - 2s 10ms/step - loss: 0.0798 - accuracy: 0.9764 - val_loss: 0.1075 - val_accuracy: 0.9684\n",
            "Epoch 15/100\n",
            "198/198 [==============================] - 2s 10ms/step - loss: 0.0781 - accuracy: 0.9764 - val_loss: 0.0787 - val_accuracy: 0.9791\n",
            "Epoch 16/100\n",
            "198/198 [==============================] - 2s 10ms/step - loss: 0.0745 - accuracy: 0.9758 - val_loss: 0.1747 - val_accuracy: 0.9477\n",
            "Epoch 17/100\n",
            "198/198 [==============================] - 2s 10ms/step - loss: 0.0750 - accuracy: 0.9761 - val_loss: 0.0755 - val_accuracy: 0.9765\n",
            "Epoch 18/100\n",
            "198/198 [==============================] - 2s 10ms/step - loss: 0.0740 - accuracy: 0.9762 - val_loss: 0.0573 - val_accuracy: 0.9838\n",
            "Epoch 19/100\n",
            "198/198 [==============================] - 2s 10ms/step - loss: 0.0669 - accuracy: 0.9784 - val_loss: 0.0953 - val_accuracy: 0.9718\n",
            "Epoch 20/100\n",
            "198/198 [==============================] - 2s 10ms/step - loss: 0.0634 - accuracy: 0.9806 - val_loss: 0.0767 - val_accuracy: 0.9767\n",
            "Epoch 21/100\n",
            "198/198 [==============================] - 2s 10ms/step - loss: 0.0578 - accuracy: 0.9826 - val_loss: 0.0743 - val_accuracy: 0.9789\n",
            "Epoch 22/100\n",
            "198/198 [==============================] - 2s 10ms/step - loss: 0.0648 - accuracy: 0.9796 - val_loss: 0.0740 - val_accuracy: 0.9795\n",
            "Epoch 23/100\n",
            "198/198 [==============================] - 2s 10ms/step - loss: 0.0578 - accuracy: 0.9810 - val_loss: 0.0553 - val_accuracy: 0.9856\n",
            "Epoch 24/100\n",
            "198/198 [==============================] - 2s 10ms/step - loss: 0.0547 - accuracy: 0.9827 - val_loss: 0.0700 - val_accuracy: 0.9789\n",
            "Epoch 25/100\n",
            "198/198 [==============================] - 2s 10ms/step - loss: 0.0534 - accuracy: 0.9841 - val_loss: 0.0661 - val_accuracy: 0.9814\n",
            "Epoch 26/100\n",
            "198/198 [==============================] - 2s 10ms/step - loss: 0.0478 - accuracy: 0.9859 - val_loss: 0.0899 - val_accuracy: 0.9775\n",
            "Epoch 27/100\n",
            "198/198 [==============================] - 2s 10ms/step - loss: 0.0450 - accuracy: 0.9858 - val_loss: 0.1000 - val_accuracy: 0.9716\n",
            "Epoch 28/100\n",
            "198/198 [==============================] - 2s 10ms/step - loss: 0.0566 - accuracy: 0.9826 - val_loss: 0.0815 - val_accuracy: 0.9785\n",
            "Epoch 29/100\n",
            "198/198 [==============================] - 2s 10ms/step - loss: 0.0452 - accuracy: 0.9846 - val_loss: 0.0938 - val_accuracy: 0.9741\n",
            "Epoch 30/100\n",
            "198/198 [==============================] - 2s 10ms/step - loss: 0.0459 - accuracy: 0.9848 - val_loss: 0.0806 - val_accuracy: 0.9775\n",
            "Epoch 31/100\n",
            "198/198 [==============================] - 2s 10ms/step - loss: 0.0446 - accuracy: 0.9869 - val_loss: 0.0642 - val_accuracy: 0.9811\n",
            "Epoch 32/100\n",
            "198/198 [==============================] - 2s 10ms/step - loss: 0.0426 - accuracy: 0.9871 - val_loss: 0.0640 - val_accuracy: 0.9824\n",
            "Epoch 33/100\n",
            "198/198 [==============================] - 2s 10ms/step - loss: 0.0421 - accuracy: 0.9875 - val_loss: 0.0655 - val_accuracy: 0.9846\n",
            "Epoch 34/100\n",
            "198/198 [==============================] - 2s 10ms/step - loss: 0.0425 - accuracy: 0.9869 - val_loss: 0.0598 - val_accuracy: 0.9830\n",
            "Epoch 35/100\n",
            "198/198 [==============================] - 2s 10ms/step - loss: 0.0387 - accuracy: 0.9866 - val_loss: 0.0569 - val_accuracy: 0.9844\n",
            "Epoch 36/100\n",
            "198/198 [==============================] - 2s 10ms/step - loss: 0.0491 - accuracy: 0.9842 - val_loss: 0.0502 - val_accuracy: 0.9878\n",
            "Epoch 37/100\n",
            "198/198 [==============================] - 2s 10ms/step - loss: 0.0345 - accuracy: 0.9892 - val_loss: 0.0517 - val_accuracy: 0.9862\n",
            "Epoch 38/100\n",
            "198/198 [==============================] - 2s 10ms/step - loss: 0.0368 - accuracy: 0.9880 - val_loss: 0.0518 - val_accuracy: 0.9854\n",
            "Epoch 39/100\n",
            "198/198 [==============================] - 2s 10ms/step - loss: 0.0356 - accuracy: 0.9889 - val_loss: 0.0883 - val_accuracy: 0.9749\n",
            "Epoch 40/100\n",
            "198/198 [==============================] - 2s 10ms/step - loss: 0.0364 - accuracy: 0.9878 - val_loss: 0.0592 - val_accuracy: 0.9838\n",
            "Epoch 41/100\n",
            "198/198 [==============================] - 2s 10ms/step - loss: 0.0360 - accuracy: 0.9886 - val_loss: 0.0720 - val_accuracy: 0.9805\n",
            "Epoch 42/100\n",
            "198/198 [==============================] - 2s 10ms/step - loss: 0.0346 - accuracy: 0.9888 - val_loss: 0.0548 - val_accuracy: 0.9852\n",
            "Epoch 43/100\n",
            "198/198 [==============================] - 2s 10ms/step - loss: 0.0357 - accuracy: 0.9893 - val_loss: 0.0454 - val_accuracy: 0.9868\n",
            "Epoch 44/100\n",
            "198/198 [==============================] - 2s 10ms/step - loss: 0.0353 - accuracy: 0.9887 - val_loss: 0.0600 - val_accuracy: 0.9852\n",
            "Epoch 45/100\n",
            "198/198 [==============================] - 2s 10ms/step - loss: 0.0352 - accuracy: 0.9883 - val_loss: 0.0542 - val_accuracy: 0.9846\n",
            "Epoch 46/100\n",
            "198/198 [==============================] - 2s 10ms/step - loss: 0.0334 - accuracy: 0.9890 - val_loss: 0.0428 - val_accuracy: 0.9868\n",
            "Epoch 47/100\n",
            "198/198 [==============================] - 2s 10ms/step - loss: 0.0367 - accuracy: 0.9870 - val_loss: 0.0556 - val_accuracy: 0.9860\n",
            "Epoch 48/100\n",
            "198/198 [==============================] - 2s 10ms/step - loss: 0.0392 - accuracy: 0.9881 - val_loss: 0.0545 - val_accuracy: 0.9852\n",
            "Epoch 49/100\n",
            "198/198 [==============================] - 2s 10ms/step - loss: 0.0311 - accuracy: 0.9895 - val_loss: 0.0487 - val_accuracy: 0.9870\n",
            "Epoch 50/100\n",
            "198/198 [==============================] - 2s 10ms/step - loss: 0.0309 - accuracy: 0.9910 - val_loss: 0.0675 - val_accuracy: 0.9828\n",
            "Epoch 51/100\n",
            "198/198 [==============================] - 2s 10ms/step - loss: 0.0386 - accuracy: 0.9871 - val_loss: 0.0462 - val_accuracy: 0.9901\n",
            "Epoch 52/100\n",
            "198/198 [==============================] - 2s 10ms/step - loss: 0.0298 - accuracy: 0.9901 - val_loss: 0.0441 - val_accuracy: 0.9895\n",
            "Epoch 53/100\n",
            "198/198 [==============================] - 2s 10ms/step - loss: 0.0236 - accuracy: 0.9922 - val_loss: 0.0670 - val_accuracy: 0.9824\n",
            "Epoch 54/100\n",
            "198/198 [==============================] - 2s 10ms/step - loss: 0.0272 - accuracy: 0.9921 - val_loss: 0.0437 - val_accuracy: 0.9899\n",
            "Epoch 55/100\n",
            "198/198 [==============================] - 2s 10ms/step - loss: 0.0315 - accuracy: 0.9900 - val_loss: 0.0372 - val_accuracy: 0.9901\n",
            "Epoch 56/100\n",
            "198/198 [==============================] - 2s 10ms/step - loss: 0.0324 - accuracy: 0.9897 - val_loss: 0.0472 - val_accuracy: 0.9878\n",
            "Epoch 57/100\n",
            "198/198 [==============================] - 2s 10ms/step - loss: 0.0232 - accuracy: 0.9922 - val_loss: 0.0594 - val_accuracy: 0.9856\n",
            "Epoch 58/100\n",
            "198/198 [==============================] - 2s 10ms/step - loss: 0.0263 - accuracy: 0.9913 - val_loss: 0.0663 - val_accuracy: 0.9834\n",
            "Epoch 59/100\n",
            "198/198 [==============================] - 2s 10ms/step - loss: 0.0219 - accuracy: 0.9928 - val_loss: 0.0496 - val_accuracy: 0.9868\n",
            "Epoch 60/100\n",
            "198/198 [==============================] - 2s 10ms/step - loss: 0.0278 - accuracy: 0.9911 - val_loss: 0.0485 - val_accuracy: 0.9876\n",
            "Epoch 61/100\n",
            "198/198 [==============================] - 2s 10ms/step - loss: 0.0282 - accuracy: 0.9913 - val_loss: 0.0594 - val_accuracy: 0.9850\n",
            "Epoch 62/100\n",
            "198/198 [==============================] - 2s 10ms/step - loss: 0.0254 - accuracy: 0.9928 - val_loss: 0.0517 - val_accuracy: 0.9878\n",
            "Epoch 63/100\n",
            "198/198 [==============================] - 2s 10ms/step - loss: 0.0236 - accuracy: 0.9929 - val_loss: 0.0630 - val_accuracy: 0.9870\n",
            "Epoch 64/100\n",
            "198/198 [==============================] - 2s 10ms/step - loss: 0.0202 - accuracy: 0.9926 - val_loss: 0.0653 - val_accuracy: 0.9860\n",
            "Epoch 65/100\n",
            "198/198 [==============================] - 2s 10ms/step - loss: 0.0207 - accuracy: 0.9931 - val_loss: 0.0599 - val_accuracy: 0.9850\n",
            "Epoch 66/100\n",
            "198/198 [==============================] - 2s 10ms/step - loss: 0.0221 - accuracy: 0.9943 - val_loss: 0.0472 - val_accuracy: 0.9897\n",
            "Epoch 67/100\n",
            "198/198 [==============================] - 2s 10ms/step - loss: 0.0212 - accuracy: 0.9936 - val_loss: 0.0559 - val_accuracy: 0.9868\n",
            "Epoch 68/100\n",
            "198/198 [==============================] - 2s 10ms/step - loss: 0.0214 - accuracy: 0.9927 - val_loss: 0.0498 - val_accuracy: 0.9882\n",
            "Epoch 69/100\n",
            "198/198 [==============================] - 2s 10ms/step - loss: 0.0196 - accuracy: 0.9931 - val_loss: 0.0708 - val_accuracy: 0.9836\n",
            "Epoch 70/100\n",
            "198/198 [==============================] - 2s 10ms/step - loss: 0.0268 - accuracy: 0.9918 - val_loss: 0.0495 - val_accuracy: 0.9895\n",
            "Epoch 71/100\n",
            "198/198 [==============================] - 2s 10ms/step - loss: 0.0220 - accuracy: 0.9936 - val_loss: 0.0454 - val_accuracy: 0.9895\n",
            "Epoch 72/100\n",
            "198/198 [==============================] - 2s 10ms/step - loss: 0.0229 - accuracy: 0.9926 - val_loss: 0.0527 - val_accuracy: 0.9864\n",
            "Epoch 73/100\n",
            "198/198 [==============================] - 2s 10ms/step - loss: 0.0246 - accuracy: 0.9917 - val_loss: 0.0497 - val_accuracy: 0.9872\n",
            "Epoch 74/100\n",
            "198/198 [==============================] - 2s 10ms/step - loss: 0.0247 - accuracy: 0.9920 - val_loss: 0.0511 - val_accuracy: 0.9891\n",
            "Epoch 75/100\n",
            "198/198 [==============================] - 2s 10ms/step - loss: 0.0187 - accuracy: 0.9936 - val_loss: 0.0404 - val_accuracy: 0.9905\n",
            "Epoch 76/100\n",
            "198/198 [==============================] - 2s 10ms/step - loss: 0.0205 - accuracy: 0.9931 - val_loss: 0.0637 - val_accuracy: 0.9870\n",
            "Epoch 77/100\n",
            "198/198 [==============================] - 2s 10ms/step - loss: 0.0191 - accuracy: 0.9948 - val_loss: 0.0616 - val_accuracy: 0.9840\n",
            "Epoch 78/100\n",
            "198/198 [==============================] - 2s 10ms/step - loss: 0.0214 - accuracy: 0.9926 - val_loss: 0.0631 - val_accuracy: 0.9878\n",
            "Epoch 79/100\n",
            "198/198 [==============================] - 2s 10ms/step - loss: 0.0224 - accuracy: 0.9926 - val_loss: 0.0522 - val_accuracy: 0.9870\n",
            "Epoch 80/100\n",
            "198/198 [==============================] - 2s 10ms/step - loss: 0.0210 - accuracy: 0.9939 - val_loss: 0.0484 - val_accuracy: 0.9889\n",
            "Epoch 81/100\n",
            "198/198 [==============================] - 2s 10ms/step - loss: 0.0186 - accuracy: 0.9942 - val_loss: 0.0440 - val_accuracy: 0.9905\n",
            "Epoch 82/100\n",
            "198/198 [==============================] - 2s 10ms/step - loss: 0.0161 - accuracy: 0.9952 - val_loss: 0.0612 - val_accuracy: 0.9862\n",
            "Epoch 83/100\n",
            "198/198 [==============================] - 2s 10ms/step - loss: 0.0199 - accuracy: 0.9933 - val_loss: 0.0645 - val_accuracy: 0.9872\n",
            "Epoch 84/100\n",
            "198/198 [==============================] - 2s 10ms/step - loss: 0.0230 - accuracy: 0.9930 - val_loss: 0.0535 - val_accuracy: 0.9880\n",
            "Epoch 85/100\n",
            "198/198 [==============================] - 2s 10ms/step - loss: 0.0176 - accuracy: 0.9942 - val_loss: 0.0556 - val_accuracy: 0.9895\n",
            "Epoch 86/100\n",
            "198/198 [==============================] - 2s 10ms/step - loss: 0.0137 - accuracy: 0.9951 - val_loss: 0.0623 - val_accuracy: 0.9891\n",
            "Epoch 87/100\n",
            "198/198 [==============================] - 2s 10ms/step - loss: 0.0176 - accuracy: 0.9949 - val_loss: 0.0535 - val_accuracy: 0.9891\n",
            "Epoch 88/100\n",
            "198/198 [==============================] - 2s 10ms/step - loss: 0.0202 - accuracy: 0.9934 - val_loss: 0.0532 - val_accuracy: 0.9886\n",
            "Epoch 89/100\n",
            "198/198 [==============================] - 2s 10ms/step - loss: 0.0177 - accuracy: 0.9935 - val_loss: 0.0473 - val_accuracy: 0.9911\n",
            "Epoch 90/100\n",
            "198/198 [==============================] - 2s 10ms/step - loss: 0.0216 - accuracy: 0.9935 - val_loss: 0.0463 - val_accuracy: 0.9899\n",
            "Epoch 91/100\n",
            "198/198 [==============================] - 2s 10ms/step - loss: 0.0148 - accuracy: 0.9956 - val_loss: 0.0590 - val_accuracy: 0.9884\n",
            "Epoch 92/100\n",
            "198/198 [==============================] - 2s 10ms/step - loss: 0.0168 - accuracy: 0.9945 - val_loss: 0.0590 - val_accuracy: 0.9903\n",
            "Epoch 93/100\n",
            "198/198 [==============================] - 2s 10ms/step - loss: 0.0273 - accuracy: 0.9929 - val_loss: 0.0524 - val_accuracy: 0.9886\n",
            "Epoch 94/100\n",
            "198/198 [==============================] - 2s 10ms/step - loss: 0.0183 - accuracy: 0.9938 - val_loss: 0.0584 - val_accuracy: 0.9889\n",
            "Epoch 95/100\n",
            "198/198 [==============================] - 2s 10ms/step - loss: 0.0162 - accuracy: 0.9944 - val_loss: 0.0481 - val_accuracy: 0.9911\n",
            "Epoch 96/100\n",
            "198/198 [==============================] - 2s 10ms/step - loss: 0.0126 - accuracy: 0.9961 - val_loss: 0.0532 - val_accuracy: 0.9895\n",
            "Epoch 97/100\n",
            "198/198 [==============================] - 2s 10ms/step - loss: 0.0160 - accuracy: 0.9952 - val_loss: 0.0640 - val_accuracy: 0.9868\n",
            "Epoch 98/100\n",
            "198/198 [==============================] - 2s 10ms/step - loss: 0.0192 - accuracy: 0.9938 - val_loss: 0.0508 - val_accuracy: 0.9891\n",
            "Epoch 99/100\n",
            "198/198 [==============================] - 2s 10ms/step - loss: 0.0175 - accuracy: 0.9940 - val_loss: 0.0577 - val_accuracy: 0.9864\n",
            "Epoch 100/100\n",
            "198/198 [==============================] - 2s 10ms/step - loss: 0.0175 - accuracy: 0.9935 - val_loss: 0.0636 - val_accuracy: 0.9874\n"
          ],
          "name": "stdout"
        }
      ]
    },
    {
      "cell_type": "code",
      "metadata": {
        "colab": {
          "base_uri": "https://localhost:8080/"
        },
        "id": "H3fItH8KwPO1",
        "outputId": "80f0c456-5806-450e-ccd5-68fd62ab72bb"
      },
      "source": [
        "model.evaluate(X_test,y_test)"
      ],
      "execution_count": null,
      "outputs": [
        {
          "output_type": "stream",
          "text": [
            "193/193 [==============================] - 1s 2ms/step - loss: 0.0672 - accuracy: 0.9875\n"
          ],
          "name": "stdout"
        },
        {
          "output_type": "execute_result",
          "data": {
            "text/plain": [
              "[0.06720508635044098, 0.9875121712684631]"
            ]
          },
          "metadata": {
            "tags": []
          },
          "execution_count": 179
        }
      ]
    },
    {
      "cell_type": "code",
      "metadata": {
        "colab": {
          "base_uri": "https://localhost:8080/"
        },
        "id": "PnFVk-LFxAw0",
        "outputId": "e096f868-2a99-48cf-c7bb-61bad503f1eb"
      },
      "source": [
        "model.summary()"
      ],
      "execution_count": null,
      "outputs": [
        {
          "output_type": "stream",
          "text": [
            "Model: \"sequential_6\"\n",
            "_________________________________________________________________\n",
            "Layer (type)                 Output Shape              Param #   \n",
            "=================================================================\n",
            "sequential_5 (Sequential)    (None, 28, 28, 1)         0         \n",
            "_________________________________________________________________\n",
            "conv2d_6 (Conv2D)            (None, 28, 28, 32)        320       \n",
            "_________________________________________________________________\n",
            "batch_normalization (BatchNo (None, 28, 28, 32)        128       \n",
            "_________________________________________________________________\n",
            "max_pooling2d_6 (MaxPooling2 (None, 14, 14, 32)        0         \n",
            "_________________________________________________________________\n",
            "conv2d_7 (Conv2D)            (None, 14, 14, 64)        18496     \n",
            "_________________________________________________________________\n",
            "conv2d_8 (Conv2D)            (None, 14, 14, 64)        36928     \n",
            "_________________________________________________________________\n",
            "batch_normalization_1 (Batch (None, 14, 14, 64)        256       \n",
            "_________________________________________________________________\n",
            "max_pooling2d_7 (MaxPooling2 (None, 7, 7, 64)          0         \n",
            "_________________________________________________________________\n",
            "conv2d_9 (Conv2D)            (None, 7, 7, 128)         73856     \n",
            "_________________________________________________________________\n",
            "conv2d_10 (Conv2D)           (None, 7, 7, 128)         147584    \n",
            "_________________________________________________________________\n",
            "batch_normalization_2 (Batch (None, 7, 7, 128)         512       \n",
            "_________________________________________________________________\n",
            "max_pooling2d_8 (MaxPooling2 (None, 3, 3, 128)         0         \n",
            "_________________________________________________________________\n",
            "conv2d_11 (Conv2D)           (None, 3, 3, 256)         295168    \n",
            "_________________________________________________________________\n",
            "batch_normalization_3 (Batch (None, 3, 3, 256)         1024      \n",
            "_________________________________________________________________\n",
            "max_pooling2d_9 (MaxPooling2 (None, 1, 1, 256)         0         \n",
            "_________________________________________________________________\n",
            "flatten_2 (Flatten)          (None, 256)               0         \n",
            "_________________________________________________________________\n",
            "dense_4 (Dense)              (None, 100)               25700     \n",
            "_________________________________________________________________\n",
            "dropout (Dropout)            (None, 100)               0         \n",
            "_________________________________________________________________\n",
            "dense_5 (Dense)              (None, 10)                1010      \n",
            "=================================================================\n",
            "Total params: 600,982\n",
            "Trainable params: 600,022\n",
            "Non-trainable params: 960\n",
            "_________________________________________________________________\n"
          ],
          "name": "stdout"
        }
      ]
    },
    {
      "cell_type": "code",
      "metadata": {
        "colab": {
          "base_uri": "https://localhost:8080/",
          "height": 1000
        },
        "id": "VdT7w9i86VfE",
        "outputId": "70365135-990f-4f78-a0a2-a0d4a40ea1fc"
      },
      "source": [
        "from keras.utils.vis_utils import plot_model\n",
        "plot_model(model,to_file='model_plot.png',show_shapes=True,show_layer_names=True)"
      ],
      "execution_count": null,
      "outputs": [
        {
          "output_type": "execute_result",
          "data": {
            "image/png": "[encoded data removed]",
            "text/plain": [
              "<IPython.core.display.Image object>"
            ]
          },
          "metadata": {
            "tags": []
          },
          "execution_count": 181
        }
      ]
    },
    {
      "cell_type": "code",
      "metadata": {
        "colab": {
          "base_uri": "https://localhost:8080/",
          "height": 295
        },
        "id": "Sr5B-cL06daj",
        "outputId": "2084db41-e9da-49c3-ba64-25c95f8ec610"
      },
      "source": [
        "loss_train=history.history['loss']\n",
        "loss_val=history.history['val_loss']\n",
        "epochs=range(1,101)\n",
        "plt.plot(epochs, loss_train, 'g', label='Training loss')\n",
        "plt.plot(epochs, loss_val, 'b', label='Validation loss')\n",
        "plt.title('Training vs Validation loss')\n",
        "plt.xlabel('Epochs')\n",
        "plt.ylabel('Loss')\n",
        "plt.legend()\n",
        "plt.show()"
      ],
      "execution_count": null,
      "outputs": [
        {
          "output_type": "display_data",
          "data": {
            "image/png": "[encoded data removed]",
            "text/plain": [
              "<Figure size 432x288 with 1 Axes>"
            ]
          },
          "metadata": {
            "tags": [],
            "needs_background": "light"
          }
        }
      ]
    },
    {
      "cell_type": "code",
      "metadata": {
        "colab": {
          "base_uri": "https://localhost:8080/",
          "height": 295
        },
        "id": "Wj5eu0iY6suc",
        "outputId": "70ce981f-e7cb-4499-aa5a-352441fb67a3"
      },
      "source": [
        "loss_train=history.history['accuracy']\n",
        "loss_val=history.history['val_accuracy']\n",
        "epochs=range(1,101)\n",
        "plt.plot(epochs,loss_train, 'g', label='Training accuracy')\n",
        "plt.plot(epochs,loss_val, 'b', label='Validation accuracy')\n",
        "plt.title('Training vs Validation accuracy')\n",
        "plt.xlabel('Epochs')\n",
        "plt.ylabel('Accuracy')\n",
        "plt.legend()\n",
        "plt.show()"
      ],
      "execution_count": null,
      "outputs": [
        {
          "output_type": "display_data",
          "data": {
            "image/png": "[encoded data removed]",
            "text/plain": [
              "<Figure size 432x288 with 1 Axes>"
            ]
          },
          "metadata": {
            "tags": [],
            "needs_background": "light"
          }
        }
      ]
    },
    {
      "cell_type": "code",
      "metadata": {
        "id": "E4tgpueHsXXZ"
      },
      "source": [
        "y_predicted=model.predict(X_test)"
      ],
      "execution_count": null,
      "outputs": []
    },
    {
      "cell_type": "code",
      "metadata": {
        "colab": {
          "base_uri": "https://localhost:8080/"
        },
        "id": "y0L-SHlGsjbS",
        "outputId": "071d5f80-0298-4660-abfe-37a00d035383"
      },
      "source": [
        "y_predicted[0]"
      ],
      "execution_count": null,
      "outputs": [
        {
          "output_type": "execute_result",
          "data": {
            "text/plain": [
              "array([3.9792256e-32, 9.5232973e-17, 5.5189245e-23, 9.9487509e-23,\n",
              "       4.8707683e-23, 8.6212031e-22, 1.0031773e-18, 4.4136649e-18,\n",
              "       5.9387000e-15, 1.0000000e+00], dtype=float32)"
            ]
          },
          "metadata": {
            "tags": []
          },
          "execution_count": 185
        }
      ]
    },
    {
      "cell_type": "code",
      "metadata": {
        "colab": {
          "base_uri": "https://localhost:8080/",
          "height": 292
        },
        "id": "rM8mZ1ymsk7l",
        "outputId": "768d47d3-0f97-4233-956e-9bda345ee0f7"
      },
      "source": [
        "X_test=X_test.reshape(-1,28,28)\n",
        "plt.matshow(X_test[1])"
      ],
      "execution_count": null,
      "outputs": [
        {
          "output_type": "execute_result",
          "data": {
            "text/plain": [
              "<matplotlib.image.AxesImage at 0x7fada4081710>"
            ]
          },
          "metadata": {
            "tags": []
          },
          "execution_count": 186
        },
        {
          "output_type": "display_data",
          "data": {
            "image/png": "[encoded data removed]",
            "text/plain": [
              "<Figure size 288x288 with 1 Axes>"
            ]
          },
          "metadata": {
            "tags": [],
            "needs_background": "light"
          }
        }
      ]
    },
    {
      "cell_type": "code",
      "metadata": {
        "colab": {
          "base_uri": "https://localhost:8080/"
        },
        "id": "6LZb-gk9srhP",
        "outputId": "6263e4d7-a98d-4fd8-8471-aaea477aacca"
      },
      "source": [
        "np.argmax(y_predicted[1])"
      ],
      "execution_count": null,
      "outputs": [
        {
          "output_type": "execute_result",
          "data": {
            "text/plain": [
              "6"
            ]
          },
          "metadata": {
            "tags": []
          },
          "execution_count": 187
        }
      ]
    },
    {
      "cell_type": "code",
      "metadata": {
        "id": "0shgwJYEs3jq"
      },
      "source": [
        "y_predicted_labels=[np.argmax(i) for i in y_predicted]"
      ],
      "execution_count": null,
      "outputs": []
    },
    {
      "cell_type": "code",
      "metadata": {
        "colab": {
          "base_uri": "https://localhost:8080/"
        },
        "id": "EXAUdko5tKTj",
        "outputId": "e448958c-d91b-4f7b-d2f3-5c3150f2a439"
      },
      "source": [
        "y_predicted_labels[:10]"
      ],
      "execution_count": null,
      "outputs": [
        {
          "output_type": "execute_result",
          "data": {
            "text/plain": [
              "[9, 6, 0, 8, 3, 5, 9, 2, 4, 8]"
            ]
          },
          "metadata": {
            "tags": []
          },
          "execution_count": 189
        }
      ]
    },
    {
      "cell_type": "code",
      "metadata": {
        "id": "Di_A_UMltN1y"
      },
      "source": [
        "confusion_matrix=tf.math.confusion_matrix(y_test,y_predicted_labels)"
      ],
      "execution_count": null,
      "outputs": []
    },
    {
      "cell_type": "code",
      "metadata": {
        "colab": {
          "base_uri": "https://localhost:8080/",
          "height": 442
        },
        "id": "qk853xm6uCZW",
        "outputId": "63e40b79-04de-4f12-c42b-fbf5cbf287f8"
      },
      "source": [
        "import seaborn as sns\n",
        "plt.figure(figsize=(10,7))\n",
        "sns.heatmap(confusion_matrix,annot=True,fmt='d')\n",
        "plt.xlabel(\"Predicted\")\n",
        "plt.ylabel(\"True\")\n",
        "plt.show()"
      ],
      "execution_count": null,
      "outputs": [
        {
          "output_type": "display_data",
          "data": {
            "image/png": "[encoded data removed]",
            "text/plain": [
              "<Figure size 720x504 with 2 Axes>"
            ]
          },
          "metadata": {
            "tags": [],
            "needs_background": "light"
          }
        }
      ]
    },
    {
      "cell_type": "code",
      "metadata": {
        "colab": {
          "base_uri": "https://localhost:8080/"
        },
        "id": "WQO5GBDftjMP",
        "outputId": "92be9f45-9417-43b8-a8d3-cf5624aa26e9"
      },
      "source": [
        "from sklearn.metrics import classification_report\n",
        "\n",
        "print(classification_report(y_test,y_predicted_labels))"
      ],
      "execution_count": null,
      "outputs": [
        {
          "output_type": "stream",
          "text": [
            "              precision    recall  f1-score   support\n",
            "\n",
            "           0       0.99      0.99      0.99       597\n",
            "           1       0.99      0.95      0.97       596\n",
            "           2       0.97      1.00      0.98       583\n",
            "           3       0.99      0.99      0.99       641\n",
            "           4       0.99      0.99      0.99       643\n",
            "           5       0.99      0.99      0.99       619\n",
            "           6       0.98      0.99      0.99       606\n",
            "           7       0.99      1.00      1.00       624\n",
            "           8       0.99      0.99      0.99       646\n",
            "           9       0.97      0.99      0.98       611\n",
            "\n",
            "    accuracy                           0.99      6166\n",
            "   macro avg       0.99      0.99      0.99      6166\n",
            "weighted avg       0.99      0.99      0.99      6166\n",
            "\n"
          ],
          "name": "stdout"
        }
      ]
    },
    {
      "cell_type": "code",
      "metadata": {
        "colab": {
          "base_uri": "https://localhost:8080/",
          "height": 292
        },
        "id": "S3zY8d2BwcVZ",
        "outputId": "ffbabd6b-c557-46c8-eb7e-e29b0c39bddc"
      },
      "source": [
        "plt.matshow(X_test[0])\n",
        "print(\"Predicted Value is-----> \",y_predicted_labels[0])"
      ],
      "execution_count": null,
      "outputs": [
        {
          "output_type": "stream",
          "text": [
            "Predicted Value is----->  9\n"
          ],
          "name": "stdout"
        },
        {
          "output_type": "display_data",
          "data": {
            "image/png": "[encoded data removed]",
            "text/plain": [
              "<Figure size 288x288 with 1 Axes>"
            ]
          },
          "metadata": {
            "tags": [],
            "needs_background": "light"
          }
        }
      ]
    },
    {
      "cell_type": "code",
      "metadata": {
        "colab": {
          "base_uri": "https://localhost:8080/",
          "height": 292
        },
        "id": "Nv_tvLWHxO_W",
        "outputId": "7f2e761f-155e-49ce-95ef-e47bb7eb18e7"
      },
      "source": [
        "plt.matshow(X_test[1])\n",
        "print(\"Predicted Value is-----> \",y_predicted_labels[1])"
      ],
      "execution_count": null,
      "outputs": [
        {
          "output_type": "stream",
          "text": [
            "Predicted Value is----->  6\n"
          ],
          "name": "stdout"
        },
        {
          "output_type": "display_data",
          "data": {
            "image/png": "[encoded data removed]",
            "text/plain": [
              "<Figure size 288x288 with 1 Axes>"
            ]
          },
          "metadata": {
            "tags": [],
            "needs_background": "light"
          }
        }
      ]
    },
    {
      "cell_type": "code",
      "metadata": {
        "colab": {
          "base_uri": "https://localhost:8080/",
          "height": 292
        },
        "id": "lI5Z713L8RDm",
        "outputId": "0a20202b-965a-4d3a-f871-a8d7fab92499"
      },
      "source": [
        "plt.matshow(X_test[2])\n",
        "print(\"Predicted Value is-----> \",y_predicted_labels[2])"
      ],
      "execution_count": null,
      "outputs": [
        {
          "output_type": "stream",
          "text": [
            "Predicted Value is----->  0\n"
          ],
          "name": "stdout"
        },
        {
          "output_type": "display_data",
          "data": {
            "image/png": "[encoded data removed]",
            "text/plain": [
              "<Figure size 288x288 with 1 Axes>"
            ]
          },
          "metadata": {
            "tags": [],
            "needs_background": "light"
          }
        }
      ]
    },
    {
      "cell_type": "code",
      "metadata": {
        "colab": {
          "base_uri": "https://localhost:8080/",
          "height": 292
        },
        "id": "ffYaujYw8ROW",
        "outputId": "edc0e79d-b838-43d2-bcb3-61d1eeca4620"
      },
      "source": [
        "plt.matshow(X_test[3])\n",
        "print(\"Predicted Value is-----> \",y_predicted_labels[3])"
      ],
      "execution_count": null,
      "outputs": [
        {
          "output_type": "stream",
          "text": [
            "Predicted Value is----->  8\n"
          ],
          "name": "stdout"
        },
        {
          "output_type": "display_data",
          "data": {
            "image/png": "[encoded data removed]",
            "text/plain": [
              "<Figure size 288x288 with 1 Axes>"
            ]
          },
          "metadata": {
            "tags": [],
            "needs_background": "light"
          }
        }
      ]
    },
    {
      "cell_type": "code",
      "metadata": {
        "colab": {
          "base_uri": "https://localhost:8080/",
          "height": 292
        },
        "id": "4QVveJrn8RZD",
        "outputId": "7bafb50f-a0d2-413d-e785-f41453371bb3"
      },
      "source": [
        "plt.matshow(X_test[4])\n",
        "print(\"Predicted Value is-----> \",y_predicted_labels[5])"
      ],
      "execution_count": null,
      "outputs": [
        {
          "output_type": "stream",
          "text": [
            "Predicted Value is----->  5\n"
          ],
          "name": "stdout"
        },
        {
          "output_type": "display_data",
          "data": {
            "image/png": "[encoded data removed]",
            "text/plain": [
              "<Figure size 288x288 with 1 Axes>"
            ]
          },
          "metadata": {
            "tags": [],
            "needs_background": "light"
          }
        }
      ]
    },
    {
      "cell_type": "code",
      "metadata": {
        "colab": {
          "base_uri": "https://localhost:8080/",
          "height": 292
        },
        "id": "O1Wpf9178Rkw",
        "outputId": "c1e29fa5-f1f6-46f0-d115-25a78da545c5"
      },
      "source": [
        "plt.matshow(X_test[5])\n",
        "print(\"Predicted Value is-----> \",y_predicted_labels[5])"
      ],
      "execution_count": null,
      "outputs": [
        {
          "output_type": "stream",
          "text": [
            "Predicted Value is----->  5\n"
          ],
          "name": "stdout"
        },
        {
          "output_type": "display_data",
          "data": {
            "image/png": "[encoded data removed]",
            "text/plain": [
              "<Figure size 288x288 with 1 Axes>"
            ]
          },
          "metadata": {
            "tags": [],
            "needs_background": "light"
          }
        }
      ]
    },
    {
      "cell_type": "code",
      "metadata": {
        "colab": {
          "base_uri": "https://localhost:8080/",
          "height": 292
        },
        "id": "9CdemvVc8R04",
        "outputId": "251a7e46-99e1-47c3-b178-f88b9b8b9a1e"
      },
      "source": [
        "plt.matshow(X_test[6])\n",
        "print(\"Predicted Value is-----> \",y_predicted_labels[6])"
      ],
      "execution_count": null,
      "outputs": [
        {
          "output_type": "stream",
          "text": [
            "Predicted Value is----->  9\n"
          ],
          "name": "stdout"
        },
        {
          "output_type": "display_data",
          "data": {
            "image/png": "[encoded data removed]",
            "text/plain": [
              "<Figure size 288x288 with 1 Axes>"
            ]
          },
          "metadata": {
            "tags": [],
            "needs_background": "light"
          }
        }
      ]
    },
    {
      "cell_type": "code",
      "metadata": {
        "colab": {
          "base_uri": "https://localhost:8080/",
          "height": 292
        },
        "id": "-rcm1q6x8SNr",
        "outputId": "2f20b520-6b11-485e-d303-49d7e133267c"
      },
      "source": [
        "plt.matshow(X_test[7])\n",
        "print(\"Predicted Value is-----> \",y_predicted_labels[7])"
      ],
      "execution_count": null,
      "outputs": [
        {
          "output_type": "stream",
          "text": [
            "Predicted Value is----->  2\n"
          ],
          "name": "stdout"
        },
        {
          "output_type": "display_data",
          "data": {
            "image/png": "[encoded data removed]",
            "text/plain": [
              "<Figure size 288x288 with 1 Axes>"
            ]
          },
          "metadata": {
            "tags": [],
            "needs_background": "light"
          }
        }
      ]
    },
    {
      "cell_type": "code",
      "metadata": {
        "colab": {
          "base_uri": "https://localhost:8080/",
          "height": 292
        },
        "id": "hLOPPpoS8SXI",
        "outputId": "42daebe0-89a6-4e6d-d5b9-3db1af2af557"
      },
      "source": [
        "plt.matshow(X_test[8])\n",
        "print(\"Predicted Value is-----> \",y_predicted_labels[8])"
      ],
      "execution_count": null,
      "outputs": [
        {
          "output_type": "stream",
          "text": [
            "Predicted Value is----->  4\n"
          ],
          "name": "stdout"
        },
        {
          "output_type": "display_data",
          "data": {
            "image/png": "[encoded data removed]",
            "text/plain": [
              "<Figure size 288x288 with 1 Axes>"
            ]
          },
          "metadata": {
            "tags": [],
            "needs_background": "light"
          }
        }
      ]
    },
    {
      "cell_type": "code",
      "metadata": {
        "colab": {
          "base_uri": "https://localhost:8080/",
          "height": 292
        },
        "id": "p8SQsWFl8SgR",
        "outputId": "ffe5c412-3c94-401e-fef6-23ca041d0e47"
      },
      "source": [
        "plt.matshow(X_test[9])\n",
        "print(\"Predicted Value is-----> \",y_predicted_labels[9])"
      ],
      "execution_count": null,
      "outputs": [
        {
          "output_type": "stream",
          "text": [
            "Predicted Value is----->  8\n"
          ],
          "name": "stdout"
        },
        {
          "output_type": "display_data",
          "data": {
            "image/png": "[encoded data removed]",
            "text/plain": [
              "<Figure size 288x288 with 1 Axes>"
            ]
          },
          "metadata": {
            "tags": [],
            "needs_background": "light"
          }
        }
      ]
    },
    {
      "cell_type": "code",
      "metadata": {
        "colab": {
          "base_uri": "https://localhost:8080/"
        },
        "id": "LOaiKGWivV_E",
        "outputId": "d837eac4-eb05-4f46-8114-68627a38bfac"
      },
      "source": [
        "!pip install gradio"
      ],
      "execution_count": null,
      "outputs": [
        {
          "output_type": "stream",
          "text": [
            "Requirement already satisfied: gradio in /usr/local/lib/python3.7/dist-packages (1.7.7)\n",
            "Requirement already satisfied: Flask>=1.1.1 in /usr/local/lib/python3.7/dist-packages (from gradio) (1.1.2)\n",
            "Requirement already satisfied: markdown2 in /usr/local/lib/python3.7/dist-packages (from gradio) (2.4.0)\n",
            "Requirement already satisfied: pandas in /usr/local/lib/python3.7/dist-packages (from gradio) (1.1.5)\n",
            "Requirement already satisfied: matplotlib in /usr/local/lib/python3.7/dist-packages (from gradio) (3.2.2)\n",
            "Requirement already satisfied: analytics-python in /usr/local/lib/python3.7/dist-packages (from gradio) (1.3.1)\n",
            "Requirement already satisfied: pycryptodome in /usr/local/lib/python3.7/dist-packages (from gradio) (3.10.1)\n",
            "Requirement already satisfied: Flask-Cors>=3.0.8 in /usr/local/lib/python3.7/dist-packages (from gradio) (3.0.10)\n",
            "Requirement already satisfied: requests in /usr/local/lib/python3.7/dist-packages (from gradio) (2.23.0)\n",
            "Requirement already satisfied: Flask-Login in /usr/local/lib/python3.7/dist-packages (from gradio) (0.5.0)\n",
            "Requirement already satisfied: paramiko in /usr/local/lib/python3.7/dist-packages (from gradio) (2.7.2)\n",
            "Requirement already satisfied: numpy in /usr/local/lib/python3.7/dist-packages (from gradio) (1.19.5)\n",
            "Requirement already satisfied: flask-cachebuster in /usr/local/lib/python3.7/dist-packages (from gradio) (1.0.0)\n",
            "Requirement already satisfied: scipy in /usr/local/lib/python3.7/dist-packages (from gradio) (1.4.1)\n",
            "Requirement already satisfied: pillow in /usr/local/lib/python3.7/dist-packages (from gradio) (7.1.2)\n",
            "Requirement already satisfied: ffmpy in /usr/local/lib/python3.7/dist-packages (from gradio) (0.3.0)\n",
            "Requirement already satisfied: Jinja2>=2.10.1 in /usr/local/lib/python3.7/dist-packages (from Flask>=1.1.1->gradio) (2.11.3)\n",
            "Requirement already satisfied: Werkzeug>=0.15 in /usr/local/lib/python3.7/dist-packages (from Flask>=1.1.1->gradio) (2.0.0)\n",
            "Requirement already satisfied: click>=5.1 in /usr/local/lib/python3.7/dist-packages (from Flask>=1.1.1->gradio) (8.0.0)\n",
            "Requirement already satisfied: itsdangerous>=0.24 in /usr/local/lib/python3.7/dist-packages (from Flask>=1.1.1->gradio) (2.0.0)\n",
            "Requirement already satisfied: pytz>=2017.2 in /usr/local/lib/python3.7/dist-packages (from pandas->gradio) (2018.9)\n",
            "Requirement already satisfied: python-dateutil>=2.7.3 in /usr/local/lib/python3.7/dist-packages (from pandas->gradio) (2.8.1)\n",
            "Requirement already satisfied: cycler>=0.10 in /usr/local/lib/python3.7/dist-packages (from matplotlib->gradio) (0.10.0)\n",
            "Requirement already satisfied: kiwisolver>=1.0.1 in /usr/local/lib/python3.7/dist-packages (from matplotlib->gradio) (1.3.1)\n",
            "Requirement already satisfied: pyparsing!=2.0.4,!=2.1.2,!=2.1.6,>=2.0.1 in /usr/local/lib/python3.7/dist-packages (from matplotlib->gradio) (2.4.7)\n",
            "Requirement already satisfied: monotonic>=1.5 in /usr/local/lib/python3.7/dist-packages (from analytics-python->gradio) (1.6)\n",
            "Requirement already satisfied: backoff==1.10.0 in /usr/local/lib/python3.7/dist-packages (from analytics-python->gradio) (1.10.0)\n",
            "Requirement already satisfied: six>=1.5 in /usr/local/lib/python3.7/dist-packages (from analytics-python->gradio) (1.15.0)\n",
            "Requirement already satisfied: chardet<4,>=3.0.2 in /usr/local/lib/python3.7/dist-packages (from requests->gradio) (3.0.4)\n",
            "Requirement already satisfied: urllib3!=1.25.0,!=1.25.1,<1.26,>=1.21.1 in /usr/local/lib/python3.7/dist-packages (from requests->gradio) (1.24.3)\n",
            "Requirement already satisfied: certifi>=2017.4.17 in /usr/local/lib/python3.7/dist-packages (from requests->gradio) (2020.12.5)\n",
            "Requirement already satisfied: idna<3,>=2.5 in /usr/local/lib/python3.7/dist-packages (from requests->gradio) (2.10)\n",
            "Requirement already satisfied: pynacl>=1.0.1 in /usr/local/lib/python3.7/dist-packages (from paramiko->gradio) (1.4.0)\n",
            "Requirement already satisfied: bcrypt>=3.1.3 in /usr/local/lib/python3.7/dist-packages (from paramiko->gradio) (3.2.0)\n",
            "Requirement already satisfied: cryptography>=2.5 in /usr/local/lib/python3.7/dist-packages (from paramiko->gradio) (3.4.7)\n",
            "Requirement already satisfied: MarkupSafe>=0.23 in /usr/local/lib/python3.7/dist-packages (from Jinja2>=2.10.1->Flask>=1.1.1->gradio) (2.0.0)\n",
            "Requirement already satisfied: cffi>=1.4.1 in /usr/local/lib/python3.7/dist-packages (from pynacl>=1.0.1->paramiko->gradio) (1.14.5)\n",
            "Requirement already satisfied: pycparser in /usr/local/lib/python3.7/dist-packages (from cffi>=1.4.1->pynacl>=1.0.1->paramiko->gradio) (2.20)\n"
          ],
          "name": "stdout"
        }
      ]
    },
    {
      "cell_type": "code",
      "metadata": {
        "id": "SagcHcBqx5qX"
      },
      "source": [
        "import gradio as gd"
      ],
      "execution_count": null,
      "outputs": []
    },
    {
      "cell_type": "code",
      "metadata": {
        "id": "4zP26IJByCjN"
      },
      "source": [
        "def predict(image):\n",
        "  image=image.reshape(-1,28,28,1)\n",
        "  image=image/255\n",
        "  pred=model.predict(image)\n",
        "  pred=np.argmax(pred)\n",
        "\n",
        "  return pred"
      ],
      "execution_count": null,
      "outputs": []
    },
    {
      "cell_type": "code",
      "metadata": {
        "id": "V4W2krjXydPW"
      },
      "source": [
        "interface=gd.Interface(predict,inputs='sketchpad',outputs='label',title='Bangla Handwritten Digit Recognition')"
      ],
      "execution_count": null,
      "outputs": []
    },
    {
      "cell_type": "code",
      "metadata": {
        "colab": {
          "base_uri": "https://localhost:8080/",
          "height": 854
        },
        "id": "fn2LEyzoywkj",
        "outputId": "a93bd5a1-7864-4b79-c492-92c98c1a7cfb"
      },
      "source": [
        "interface.launch(debug=True)"
      ],
      "execution_count": null,
      "outputs": [
        {
          "output_type": "stream",
          "text": [
            "Colab notebook detected. This cell will run indefinitely so that you can see errors and logs. To turn off, set debug=False in launch().\n",
            "This share link will expire in 24 hours. If you need a permanent link, visit: https://gradio.app/introducing-hosted (NEW!)\n",
            "Running on External URL: https://50677.gradio.app\n",
            "Interface loading below...\n"
          ],
          "name": "stdout"
        },
        {
          "output_type": "display_data",
          "data": {
            "text/html": [
              "\n",
              "        <iframe\n",
              "            width=\"1000\"\n",
              "            height=\"500\"\n",
              "            src=\"https://50677.gradio.app\"\n",
              "            frameborder=\"0\"\n",
              "            allowfullscreen\n",
              "        ></iframe>\n",
              "        "
            ],
            "text/plain": [
              "<IPython.lib.display.IFrame at 0x7fada459cf50>"
            ]
          },
          "metadata": {
            "tags": []
          }
        },
        {
          "output_type": "error",
          "ename": "KeyboardInterrupt",
          "evalue": "ignored",
          "traceback": [
            "\u001b[0;31m---------------------------------------------------------------------------\u001b[0m",
            "\u001b[0;31mKeyboardInterrupt\u001b[0m                         Traceback (most recent call last)",
            "\u001b[0;32m<ipython-input-207-75e4cf6bcc7d>\u001b[0m in \u001b[0;36m<module>\u001b[0;34m()\u001b[0m\n\u001b[0;32m----> 1\u001b[0;31m \u001b[0minterface\u001b[0m\u001b[0;34m.\u001b[0m\u001b[0mlaunch\u001b[0m\u001b[0;34m(\u001b[0m\u001b[0mdebug\u001b[0m\u001b[0;34m=\u001b[0m\u001b[0;32mTrue\u001b[0m\u001b[0;34m)\u001b[0m\u001b[0;34m\u001b[0m\u001b[0;34m\u001b[0m\u001b[0m\n\u001b[0m",
            "\u001b[0;32m/usr/local/lib/python3.7/dist-packages/gradio/interface.py\u001b[0m in \u001b[0;36mlaunch\u001b[0;34m(self, inline, inbrowser, share, debug, auth, auth_message, private_endpoint)\u001b[0m\n\u001b[1;32m    479\u001b[0m             \u001b[0;32mwhile\u001b[0m \u001b[0;32mTrue\u001b[0m\u001b[0;34m:\u001b[0m\u001b[0;34m\u001b[0m\u001b[0;34m\u001b[0m\u001b[0m\n\u001b[1;32m    480\u001b[0m                 \u001b[0msys\u001b[0m\u001b[0;34m.\u001b[0m\u001b[0mstdout\u001b[0m\u001b[0;34m.\u001b[0m\u001b[0mflush\u001b[0m\u001b[0;34m(\u001b[0m\u001b[0;34m)\u001b[0m\u001b[0;34m\u001b[0m\u001b[0;34m\u001b[0m\u001b[0m\n\u001b[0;32m--> 481\u001b[0;31m                 \u001b[0mtime\u001b[0m\u001b[0;34m.\u001b[0m\u001b[0msleep\u001b[0m\u001b[0;34m(\u001b[0m\u001b[0;36m0.1\u001b[0m\u001b[0;34m)\u001b[0m\u001b[0;34m\u001b[0m\u001b[0;34m\u001b[0m\u001b[0m\n\u001b[0m\u001b[1;32m    482\u001b[0m         \u001b[0mis_in_interactive_mode\u001b[0m \u001b[0;34m=\u001b[0m \u001b[0mbool\u001b[0m\u001b[0;34m(\u001b[0m\u001b[0mgetattr\u001b[0m\u001b[0;34m(\u001b[0m\u001b[0msys\u001b[0m\u001b[0;34m,\u001b[0m \u001b[0;34m'ps1'\u001b[0m\u001b[0;34m,\u001b[0m \u001b[0msys\u001b[0m\u001b[0;34m.\u001b[0m\u001b[0mflags\u001b[0m\u001b[0;34m.\u001b[0m\u001b[0minteractive\u001b[0m\u001b[0;34m)\u001b[0m\u001b[0;34m)\u001b[0m\u001b[0;34m\u001b[0m\u001b[0;34m\u001b[0m\u001b[0m\n\u001b[1;32m    483\u001b[0m         \u001b[0;32mif\u001b[0m \u001b[0;32mnot\u001b[0m \u001b[0mis_in_interactive_mode\u001b[0m\u001b[0;34m:\u001b[0m\u001b[0;34m\u001b[0m\u001b[0;34m\u001b[0m\u001b[0m\n",
            "\u001b[0;31mKeyboardInterrupt\u001b[0m: "
          ]
        }
      ]
    },
    {
      "cell_type": "code",
      "metadata": {
        "id": "Fjh9ckoIy4Vd"
      },
      "source": [
        ""
      ],
      "execution_count": null,
      "outputs": []
    }
  ]
}